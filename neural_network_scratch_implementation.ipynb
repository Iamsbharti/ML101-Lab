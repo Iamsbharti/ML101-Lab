{
  "nbformat": 4,
  "nbformat_minor": 0,
  "metadata": {
    "colab": {
      "provenance": [],
      "authorship_tag": "ABX9TyPXZ4s9FuborvqrdZ/ej8ww",
      "include_colab_link": true
    },
    "kernelspec": {
      "name": "python3",
      "display_name": "Python 3"
    },
    "language_info": {
      "name": "python"
    }
  },
  "cells": [
    {
      "cell_type": "markdown",
      "metadata": {
        "id": "view-in-github",
        "colab_type": "text"
      },
      "source": [
        "<a href=\"https://colab.research.google.com/github/Iamsbharti/ML101-Lab/blob/master/neural_network_scratch_implementation.ipynb\" target=\"_parent\"><img src=\"https://colab.research.google.com/assets/colab-badge.svg\" alt=\"Open In Colab\"/></a>"
      ]
    },
    {
      "cell_type": "code",
      "source": [
        "import math\n",
        "import numpy as np\n",
        "import matplotlib.pyplot as plt\n",
        "%matplotlib inline"
      ],
      "metadata": {
        "id": "V6If88VQJ__G"
      },
      "execution_count": 59,
      "outputs": []
    },
    {
      "cell_type": "markdown",
      "source": [
        "**Derivative**"
      ],
      "metadata": {
        "id": "b65Dh3T5KoOJ"
      }
    },
    {
      "cell_type": "code",
      "source": [
        "# a hyperbola\n",
        "def f(x):\n",
        "  return 3 * x ** 2 -4*x +5"
      ],
      "metadata": {
        "id": "B7d-FN-BKt96"
      },
      "execution_count": 6,
      "outputs": []
    },
    {
      "cell_type": "code",
      "source": [
        "f(3.0)"
      ],
      "metadata": {
        "colab": {
          "base_uri": "https://localhost:8080/"
        },
        "id": "7NJ5nMiuK_eE",
        "outputId": "89d71a60-c970-40af-b67d-941d24ae4e9a"
      },
      "execution_count": 7,
      "outputs": [
        {
          "output_type": "execute_result",
          "data": {
            "text/plain": [
              "20.0"
            ]
          },
          "metadata": {},
          "execution_count": 7
        }
      ]
    },
    {
      "cell_type": "code",
      "source": [
        "xs = np.arange(-5,5,0.25)\n",
        "xs"
      ],
      "metadata": {
        "colab": {
          "base_uri": "https://localhost:8080/"
        },
        "id": "uYVYqbCeLCsU",
        "outputId": "63b12c1e-da8d-4034-c3d2-da8c9048300e"
      },
      "execution_count": 67,
      "outputs": [
        {
          "output_type": "execute_result",
          "data": {
            "text/plain": [
              "array([-5.  , -4.75, -4.5 , -4.25, -4.  , -3.75, -3.5 , -3.25, -3.  ,\n",
              "       -2.75, -2.5 , -2.25, -2.  , -1.75, -1.5 , -1.25, -1.  , -0.75,\n",
              "       -0.5 , -0.25,  0.  ,  0.25,  0.5 ,  0.75,  1.  ,  1.25,  1.5 ,\n",
              "        1.75,  2.  ,  2.25,  2.5 ,  2.75,  3.  ,  3.25,  3.5 ,  3.75,\n",
              "        4.  ,  4.25,  4.5 ,  4.75])"
            ]
          },
          "metadata": {},
          "execution_count": 67
        }
      ]
    },
    {
      "cell_type": "code",
      "source": [
        "ys = f(xs)\n",
        "ys"
      ],
      "metadata": {
        "colab": {
          "base_uri": "https://localhost:8080/"
        },
        "id": "nx0fLFdxLIBO",
        "outputId": "f982e036-305d-473a-819b-c5b8620ac368"
      },
      "execution_count": 10,
      "outputs": [
        {
          "output_type": "execute_result",
          "data": {
            "text/plain": [
              "array([100.    ,  91.6875,  83.75  ,  76.1875,  69.    ,  62.1875,\n",
              "        55.75  ,  49.6875,  44.    ,  38.6875,  33.75  ,  29.1875,\n",
              "        25.    ,  21.1875,  17.75  ,  14.6875,  12.    ,   9.6875,\n",
              "         7.75  ,   6.1875,   5.    ,   4.1875,   3.75  ,   3.6875,\n",
              "         4.    ,   4.6875,   5.75  ,   7.1875,   9.    ,  11.1875,\n",
              "        13.75  ,  16.6875,  20.    ,  23.6875,  27.75  ,  32.1875,\n",
              "        37.    ,  42.1875,  47.75  ,  53.6875])"
            ]
          },
          "metadata": {},
          "execution_count": 10
        }
      ]
    },
    {
      "cell_type": "code",
      "source": [
        "plt.plot(xs,ys)"
      ],
      "metadata": {
        "colab": {
          "base_uri": "https://localhost:8080/",
          "height": 447
        },
        "id": "hUbAhbfHLOuO",
        "outputId": "d465cc15-644e-4f0f-a2d0-f5237b6d92a3"
      },
      "execution_count": 11,
      "outputs": [
        {
          "output_type": "execute_result",
          "data": {
            "text/plain": [
              "[<matplotlib.lines.Line2D at 0x7f63e5d059d0>]"
            ]
          },
          "metadata": {},
          "execution_count": 11
        },
        {
          "output_type": "display_data",
          "data": {
            "text/plain": [
              "<Figure size 640x480 with 1 Axes>"
            ],
            "image/png": "[encoded data removed]"
          },
          "metadata": {}
        }
      ]
    },
    {
      "cell_type": "markdown",
      "source": [
        "-  a derivative is to find the amount of change recorded when input of the function is nudged in +ve /-ve direction ,the slope of the change."
      ],
      "metadata": {
        "id": "2QTKFJmlLb3G"
      }
    },
    {
      "cell_type": "code",
      "source": [
        "h = 0.0000001 # amount of change\n",
        "x = 2/3\n",
        "# (f(x + h) - f(x)) /h"
      ],
      "metadata": {
        "id": "1CNRCHgvLRwe"
      },
      "execution_count": 66,
      "outputs": []
    },
    {
      "cell_type": "code",
      "source": [
        "# lets get more complex\n",
        "a = 2.0\n",
        "b = -3.0\n",
        "c = 10.0\n",
        "d = a * b +c\n",
        "print(d)"
      ],
      "metadata": {
        "colab": {
          "base_uri": "https://localhost:8080/"
        },
        "id": "-NtRHm-bLl_I",
        "outputId": "8bf942b1-2832-454c-fa61-2d7f0b440f0f"
      },
      "execution_count": 14,
      "outputs": [
        {
          "output_type": "stream",
          "name": "stdout",
          "text": [
            "4.0\n"
          ]
        }
      ]
    },
    {
      "cell_type": "code",
      "source": [
        "h = 0.0001 # amouint of change\n",
        "# inputs\n",
        "a = 2.0\n",
        "b = -3.0\n",
        "c = 10.0\n",
        "d1 = a * b + c\n",
        "a +=h\n",
        "\n",
        "d2 = a * b + c\n",
        "print(\"d1:\", d1)\n",
        "print(\"d2:\", d2)\n",
        "print('slope:', (d1 - d2)/h)\n"
      ],
      "metadata": {
        "colab": {
          "base_uri": "https://localhost:8080/"
        },
        "id": "zlY9Cs9yL6l1",
        "outputId": "6677cfa1-9e51-4695-e7a0-f09d7c452bfa"
      },
      "execution_count": 1,
      "outputs": [
        {
          "output_type": "stream",
          "name": "stdout",
          "text": [
            "d1: 4.0\n",
            "d2: 3.999699999999999\n",
            "slope: 3.000000000010772\n"
          ]
        }
      ]
    },
    {
      "cell_type": "markdown",
      "source": [
        "- we are building a data-structure to store the value of a expression , from which values and operand they were created.\n",
        "- _children is a set which stores the input used in generating the matematical expression\n",
        "- _op stores the operand\n",
        "- these are constructors to the `Value` class."
      ],
      "metadata": {
        "id": "1rNXp5se7jYn"
      }
    },
    {
      "cell_type": "code",
      "source": [
        "# neural networks needs mathematical operation so this is a datastructure to represent them.\n",
        "# backpropagation\n",
        "'''\n",
        "we are going to derive derivate of each node with respect to the previous node\n",
        "so derivative of L w.r.t L is 1\n",
        "- L w.r.t d\n",
        "- L w.r.t f\n",
        ".... so on\n",
        "- derivative of output w.r.t its leaf nodes.\n",
        "`grad` varibale stores the derivative of node w.r.t to prev node. initialized to 0.0\n",
        "'''\n",
        "\n",
        "class Value:\n",
        "  def __init__(self, data, _children=(), _op='', label=''):\n",
        "    self.data = data\n",
        "    self._prev = set(_children)\n",
        "    self.grad = 0.0\n",
        "    self._op = _op\n",
        "    self.label = label\n",
        "\n",
        "  def __repr__(self):\n",
        "    return f\"Value(data={self.data})\"\n",
        "\n",
        "  def __add__(self,other):\n",
        "    out = Value(self.data + other.data, (self,other), '+')\n",
        "    return out\n",
        "\n",
        "  def __mul__(self,other):\n",
        "    out = Value(self.data * other.data, (self,other), '*')\n",
        "    return out\n",
        "\n",
        "  def tanh(self):\n",
        "    x = self.data\n",
        "    t = (math.exp(2 * x) - 1) / (math.exp(2 * x) +1)\n",
        "    out = Value(t, (self,), 'tanh')\n",
        "    return out\n",
        "\n",
        "\n",
        "a = Value(2.0, label = 'a')\n",
        "b = Value(-3.0, label = 'b')\n",
        "c = Value(10.0, label = 'c')\n",
        "e = a * b; e.label = 'e'\n",
        "\n",
        "d = e + c ; d.label = 'd'\n",
        "f = Value(-2.0, label='f')\n",
        "L = d * f; L.label = 'L'\n",
        "L"
      ],
      "metadata": {
        "colab": {
          "base_uri": "https://localhost:8080/"
        },
        "id": "fBHQGniO7eam",
        "outputId": "bf9f6949-d23e-469e-dc89-d7d9b893d377"
      },
      "execution_count": 68,
      "outputs": [
        {
          "output_type": "execute_result",
          "data": {
            "text/plain": [
              "Value(data=-8.0)"
            ]
          },
          "metadata": {},
          "execution_count": 68
        }
      ]
    },
    {
      "cell_type": "code",
      "source": [
        " print(d._prev,d._op)"
      ],
      "metadata": {
        "colab": {
          "base_uri": "https://localhost:8080/"
        },
        "id": "NrDj237U8mmd",
        "outputId": "e52ca8f7-b9ca-4da4-8525-954ca3aefcec"
      },
      "execution_count": 9,
      "outputs": [
        {
          "output_type": "stream",
          "name": "stdout",
          "text": [
            "{Value(data=10.0), Value(data=-6.0)} +\n"
          ]
        }
      ]
    },
    {
      "cell_type": "markdown",
      "source": [
        "### because these mathematical expression can get larger , we are now going to build a way to visulaize these expression graphs"
      ],
      "metadata": {
        "id": "NQO7uJgU96nD"
      }
    },
    {
      "cell_type": "code",
      "source": [
        "from graphviz import Digraph\n",
        "def trace(root):\n",
        "    # builds a set of all nodes and edges in a graph\n",
        "    nodes, edges = set(), set()\n",
        "    def build(v):\n",
        "        if v not in nodes:\n",
        "            nodes.add(v)\n",
        "            for child in v._prev:\n",
        "                edges.add((child,v))\n",
        "                build(child)\n",
        "    build(root)\n",
        "    return nodes,edges\n",
        "\n",
        "def draw_dot(root):\n",
        "    dot = Digraph(format='svg', graph_attr={'rankdir' : 'LR'},) # left to right graph\n",
        "\n",
        "    nodes, edges = trace(root)\n",
        "    for n in nodes:\n",
        "        uid = str(id(n))\n",
        "        # for any value in graph ; create a rectangular ('record') node for it\n",
        "        dot.node(name = uid, label=\"{ %s | data %.4f | grad %.4f }\" % (n.label, n.data, n.grad), shape='record')\n",
        "\n",
        "        if n._op:\n",
        "            # if this values is a result of some operation , cretae an op node for it\n",
        "            dot.node(name = uid + n._op, label = n._op)\n",
        "            # now connect this node to it\n",
        "            dot.edge(uid + n._op , uid)\n",
        "\n",
        "    for n1, n2 in edges:\n",
        "        # connect n1 to the op node of n2\n",
        "        dot.edge(str(id(n1)), str(id(n2)) + n2._op)\n",
        "\n",
        "    return dot\n",
        ""
      ],
      "metadata": {
        "id": "Ah6_qtNv9UJq"
      },
      "execution_count": 71,
      "outputs": []
    },
    {
      "cell_type": "code",
      "source": [
        "draw_dot(L)"
      ],
      "metadata": {
        "colab": {
          "base_uri": "https://localhost:8080/",
          "height": 226
        },
        "id": "Sbwldl3D-CUe",
        "outputId": "10346541-13b9-453b-94c5-562c0529d165"
      },
      "execution_count": 72,
      "outputs": [
        {
          "output_type": "execute_result",
          "data": {
            "image/svg+xml": "<?xml version=\"1.0\" encoding=\"UTF-8\" standalone=\"no\"?>\n<!DOCTYPE svg PUBLIC \"-//W3C//DTD SVG 1.1//EN\"\n \"http://www.w3.org/Graphics/SVG/1.1/DTD/svg11.dtd\">\n<!-- Generated by graphviz version 2.43.0 (0)\n -->\n<!-- Title: %3 Pages: 1 -->\n<svg width=\"1148pt\" height=\"154pt\"\n viewBox=\"0.00 0.00 1148.00 154.00\" xmlns=\"http://www.w3.org/2000/svg\" xmlns:xlink=\"http://www.w3.org/1999/xlink\">\n<g id=\"graph0\" class=\"graph\" transform=\"scale(1 1) rotate(0) translate(4 150)\">\n<title>%3</title>\n<polygon fill=\"white\" stroke=\"transparent\" points=\"-4,4 -4,-150 1144,-150 1144,4 -4,4\"/>\n<!-- 138511022046816 -->\n<g id=\"node1\" class=\"node\">\n<title>138511022046816</title>\n<polygon fill=\"none\" stroke=\"black\" points=\"635.5,-54.5 635.5,-90.5 820.5,-90.5 820.5,-54.5 635.5,-54.5\"/>\n<text text-anchor=\"middle\" x=\"647\" y=\"-68.8\" font-family=\"Times,serif\" font-size=\"14.00\">d</text>\n<polyline fill=\"none\" stroke=\"black\" points=\"658.5,-54.5 658.5,-90.5 \"/>\n<text text-anchor=\"middle\" x=\"698.5\" y=\"-68.8\" font-family=\"Times,serif\" font-size=\"14.00\">data 4.0000</text>\n<polyline fill=\"none\" stroke=\"black\" points=\"738.5,-54.5 738.5,-90.5 \"/>\n<text text-anchor=\"middle\" x=\"779.5\" y=\"-68.8\" font-family=\"Times,serif\" font-size=\"14.00\">grad 0.0000</text>\n</g>\n<!-- 138511022032608* -->\n<g id=\"node7\" class=\"node\">\n<title>138511022032608*</title>\n<ellipse fill=\"none\" stroke=\"black\" cx=\"885\" cy=\"-99.5\" rx=\"27\" ry=\"18\"/>\n<text text-anchor=\"middle\" x=\"885\" y=\"-95.8\" font-family=\"Times,serif\" font-size=\"14.00\">*</text>\n</g>\n<!-- 138511022046816&#45;&gt;138511022032608* -->\n<g id=\"edge8\" class=\"edge\">\n<title>138511022046816&#45;&gt;138511022032608*</title>\n<path fill=\"none\" stroke=\"black\" d=\"M820.51,-88.44C830.48,-90.18 840.13,-91.86 848.77,-93.36\"/>\n<polygon fill=\"black\" stroke=\"black\" points=\"848.31,-96.84 858.77,-95.1 849.52,-89.94 848.31,-96.84\"/>\n</g>\n<!-- 138511022046816+ -->\n<g id=\"node2\" class=\"node\">\n<title>138511022046816+</title>\n<ellipse fill=\"none\" stroke=\"black\" cx=\"571\" cy=\"-72.5\" rx=\"27\" ry=\"18\"/>\n<text text-anchor=\"middle\" x=\"571\" y=\"-68.8\" font-family=\"Times,serif\" font-size=\"14.00\">+</text>\n</g>\n<!-- 138511022046816+&#45;&gt;138511022046816 -->\n<g id=\"edge1\" class=\"edge\">\n<title>138511022046816+&#45;&gt;138511022046816</title>\n<path fill=\"none\" stroke=\"black\" d=\"M598.29,-72.5C606.26,-72.5 615.54,-72.5 625.39,-72.5\"/>\n<polygon fill=\"black\" stroke=\"black\" points=\"625.41,-76 635.41,-72.5 625.41,-69 625.41,-76\"/>\n</g>\n<!-- 138511022046336 -->\n<g id=\"node3\" class=\"node\">\n<title>138511022046336</title>\n<polygon fill=\"none\" stroke=\"black\" points=\"634,-109.5 634,-145.5 822,-145.5 822,-109.5 634,-109.5\"/>\n<text text-anchor=\"middle\" x=\"644.5\" y=\"-123.8\" font-family=\"Times,serif\" font-size=\"14.00\">f</text>\n<polyline fill=\"none\" stroke=\"black\" points=\"655,-109.5 655,-145.5 \"/>\n<text text-anchor=\"middle\" x=\"697.5\" y=\"-123.8\" font-family=\"Times,serif\" font-size=\"14.00\">data &#45;2.0000</text>\n<polyline fill=\"none\" stroke=\"black\" points=\"740,-109.5 740,-145.5 \"/>\n<text text-anchor=\"middle\" x=\"781\" y=\"-123.8\" font-family=\"Times,serif\" font-size=\"14.00\">grad 0.0000</text>\n</g>\n<!-- 138511022046336&#45;&gt;138511022032608* -->\n<g id=\"edge4\" class=\"edge\">\n<title>138511022046336&#45;&gt;138511022032608*</title>\n<path fill=\"none\" stroke=\"black\" d=\"M822.29,-110.65C831.57,-108.97 840.52,-107.35 848.61,-105.89\"/>\n<polygon fill=\"black\" stroke=\"black\" points=\"849.46,-109.3 858.68,-104.07 848.21,-102.41 849.46,-109.3\"/>\n</g>\n<!-- 138511022046912 -->\n<g id=\"node4\" class=\"node\">\n<title>138511022046912</title>\n<polygon fill=\"none\" stroke=\"black\" points=\"2.5,-55.5 2.5,-91.5 187.5,-91.5 187.5,-55.5 2.5,-55.5\"/>\n<text text-anchor=\"middle\" x=\"14\" y=\"-69.8\" font-family=\"Times,serif\" font-size=\"14.00\">a</text>\n<polyline fill=\"none\" stroke=\"black\" points=\"25.5,-55.5 25.5,-91.5 \"/>\n<text text-anchor=\"middle\" x=\"65.5\" y=\"-69.8\" font-family=\"Times,serif\" font-size=\"14.00\">data 2.0000</text>\n<polyline fill=\"none\" stroke=\"black\" points=\"105.5,-55.5 105.5,-91.5 \"/>\n<text text-anchor=\"middle\" x=\"146.5\" y=\"-69.8\" font-family=\"Times,serif\" font-size=\"14.00\">grad 0.0000</text>\n</g>\n<!-- 138511022036784* -->\n<g id=\"node9\" class=\"node\">\n<title>138511022036784*</title>\n<ellipse fill=\"none\" stroke=\"black\" cx=\"253\" cy=\"-45.5\" rx=\"27\" ry=\"18\"/>\n<text text-anchor=\"middle\" x=\"253\" y=\"-41.8\" font-family=\"Times,serif\" font-size=\"14.00\">*</text>\n</g>\n<!-- 138511022046912&#45;&gt;138511022036784* -->\n<g id=\"edge6\" class=\"edge\">\n<title>138511022046912&#45;&gt;138511022036784*</title>\n<path fill=\"none\" stroke=\"black\" d=\"M187.65,-57.05C197.94,-55.2 207.91,-53.41 216.81,-51.82\"/>\n<polygon fill=\"black\" stroke=\"black\" points=\"217.48,-55.25 226.71,-50.04 216.25,-48.36 217.48,-55.25\"/>\n</g>\n<!-- 138511022039760 -->\n<g id=\"node5\" class=\"node\">\n<title>138511022039760</title>\n<polygon fill=\"none\" stroke=\"black\" points=\"316,-82.5 316,-118.5 508,-118.5 508,-82.5 316,-82.5\"/>\n<text text-anchor=\"middle\" x=\"327.5\" y=\"-96.8\" font-family=\"Times,serif\" font-size=\"14.00\">c</text>\n<polyline fill=\"none\" stroke=\"black\" points=\"339,-82.5 339,-118.5 \"/>\n<text text-anchor=\"middle\" x=\"382.5\" y=\"-96.8\" font-family=\"Times,serif\" font-size=\"14.00\">data 10.0000</text>\n<polyline fill=\"none\" stroke=\"black\" points=\"426,-82.5 426,-118.5 \"/>\n<text text-anchor=\"middle\" x=\"467\" y=\"-96.8\" font-family=\"Times,serif\" font-size=\"14.00\">grad 0.0000</text>\n</g>\n<!-- 138511022039760&#45;&gt;138511022046816+ -->\n<g id=\"edge9\" class=\"edge\">\n<title>138511022039760&#45;&gt;138511022046816+</title>\n<path fill=\"none\" stroke=\"black\" d=\"M508.4,-83.49C517.69,-81.83 526.64,-80.23 534.71,-78.79\"/>\n<polygon fill=\"black\" stroke=\"black\" points=\"535.53,-82.2 544.76,-77 534.31,-75.31 535.53,-82.2\"/>\n</g>\n<!-- 138511022032608 -->\n<g id=\"node6\" class=\"node\">\n<title>138511022032608</title>\n<polygon fill=\"none\" stroke=\"black\" points=\"948,-81.5 948,-117.5 1140,-117.5 1140,-81.5 948,-81.5\"/>\n<text text-anchor=\"middle\" x=\"960.5\" y=\"-95.8\" font-family=\"Times,serif\" font-size=\"14.00\">L</text>\n<polyline fill=\"none\" stroke=\"black\" points=\"973,-81.5 973,-117.5 \"/>\n<text text-anchor=\"middle\" x=\"1015.5\" y=\"-95.8\" font-family=\"Times,serif\" font-size=\"14.00\">data &#45;8.0000</text>\n<polyline fill=\"none\" stroke=\"black\" points=\"1058,-81.5 1058,-117.5 \"/>\n<text text-anchor=\"middle\" x=\"1099\" y=\"-95.8\" font-family=\"Times,serif\" font-size=\"14.00\">grad 0.0000</text>\n</g>\n<!-- 138511022032608*&#45;&gt;138511022032608 -->\n<g id=\"edge2\" class=\"edge\">\n<title>138511022032608*&#45;&gt;138511022032608</title>\n<path fill=\"none\" stroke=\"black\" d=\"M912.28,-99.5C919.78,-99.5 928.44,-99.5 937.67,-99.5\"/>\n<polygon fill=\"black\" stroke=\"black\" points=\"937.87,-103 947.87,-99.5 937.87,-96 937.87,-103\"/>\n</g>\n<!-- 138511022036784 -->\n<g id=\"node8\" class=\"node\">\n<title>138511022036784</title>\n<polygon fill=\"none\" stroke=\"black\" points=\"317,-27.5 317,-63.5 507,-63.5 507,-27.5 317,-27.5\"/>\n<text text-anchor=\"middle\" x=\"328.5\" y=\"-41.8\" font-family=\"Times,serif\" font-size=\"14.00\">e</text>\n<polyline fill=\"none\" stroke=\"black\" points=\"340,-27.5 340,-63.5 \"/>\n<text text-anchor=\"middle\" x=\"382.5\" y=\"-41.8\" font-family=\"Times,serif\" font-size=\"14.00\">data &#45;6.0000</text>\n<polyline fill=\"none\" stroke=\"black\" points=\"425,-27.5 425,-63.5 \"/>\n<text text-anchor=\"middle\" x=\"466\" y=\"-41.8\" font-family=\"Times,serif\" font-size=\"14.00\">grad 0.0000</text>\n</g>\n<!-- 138511022036784&#45;&gt;138511022046816+ -->\n<g id=\"edge7\" class=\"edge\">\n<title>138511022036784&#45;&gt;138511022046816+</title>\n<path fill=\"none\" stroke=\"black\" d=\"M507.05,-61.67C516.78,-63.35 526.18,-64.96 534.62,-66.42\"/>\n<polygon fill=\"black\" stroke=\"black\" points=\"534.3,-69.91 544.75,-68.16 535.49,-63.01 534.3,-69.91\"/>\n</g>\n<!-- 138511022036784*&#45;&gt;138511022036784 -->\n<g id=\"edge3\" class=\"edge\">\n<title>138511022036784*&#45;&gt;138511022036784</title>\n<path fill=\"none\" stroke=\"black\" d=\"M280.28,-45.5C288.05,-45.5 297.08,-45.5 306.68,-45.5\"/>\n<polygon fill=\"black\" stroke=\"black\" points=\"306.88,-49 316.88,-45.5 306.88,-42 306.88,-49\"/>\n</g>\n<!-- 138511022037360 -->\n<g id=\"node10\" class=\"node\">\n<title>138511022037360</title>\n<polygon fill=\"none\" stroke=\"black\" points=\"0,-0.5 0,-36.5 190,-36.5 190,-0.5 0,-0.5\"/>\n<text text-anchor=\"middle\" x=\"11.5\" y=\"-14.8\" font-family=\"Times,serif\" font-size=\"14.00\">b</text>\n<polyline fill=\"none\" stroke=\"black\" points=\"23,-0.5 23,-36.5 \"/>\n<text text-anchor=\"middle\" x=\"65.5\" y=\"-14.8\" font-family=\"Times,serif\" font-size=\"14.00\">data &#45;3.0000</text>\n<polyline fill=\"none\" stroke=\"black\" points=\"108,-0.5 108,-36.5 \"/>\n<text text-anchor=\"middle\" x=\"149\" y=\"-14.8\" font-family=\"Times,serif\" font-size=\"14.00\">grad 0.0000</text>\n</g>\n<!-- 138511022037360&#45;&gt;138511022036784* -->\n<g id=\"edge5\" class=\"edge\">\n<title>138511022037360&#45;&gt;138511022036784*</title>\n<path fill=\"none\" stroke=\"black\" d=\"M190.34,-34.83C199.62,-36.44 208.58,-37.99 216.66,-39.38\"/>\n<polygon fill=\"black\" stroke=\"black\" points=\"216.27,-42.87 226.72,-41.12 217.46,-35.97 216.27,-42.87\"/>\n</g>\n</g>\n</svg>\n",
            "text/plain": [
              "<graphviz.graphs.Digraph at 0x7df99c4421e0>"
            ]
          },
          "metadata": {},
          "execution_count": 72
        }
      ]
    },
    {
      "cell_type": "markdown",
      "source": [
        "### let's do the backpropagtion manually\n"
      ],
      "metadata": {
        "id": "RT_W__HeLrJ0"
      }
    },
    {
      "cell_type": "code",
      "source": [
        "def calculate_derivate():\n",
        "  # changing L by h will give derivate to 1\n",
        "  h = 0.001\n",
        "  a = Value(2.0, label = 'a')\n",
        "  b = Value(-3.0, label = 'b')\n",
        "  c = Value(10.0, label = 'c')\n",
        "  e = a * b; e.label = 'e'\n",
        "\n",
        "  d = e + c ; d.label = 'd'\n",
        "  f = Value(-2.0, label='f')\n",
        "  L = d * f; L.label = 'L'\n",
        "  L1 = L.data\n",
        "\n",
        "  a = Value(2.0, label = 'a')\n",
        "  b = Value(-3.0, label = 'b')\n",
        "  c = Value(10.0, label = 'c')\n",
        "  e = a * b; e.label = 'e'\n",
        "\n",
        "  d = e + c ; d.label = 'd'\n",
        "  f = Value(-2.0, label='f')\n",
        "  L = d * f; L.label = 'L'\n",
        "  # calculate L2 by nudings the a value by `h`\n",
        "  L2 = L.data + h\n",
        "\n",
        "  print((L2 - L1)/h)\n",
        "calculate_derivate()"
      ],
      "metadata": {
        "colab": {
          "base_uri": "https://localhost:8080/"
        },
        "id": "VruNetfdLe8N",
        "outputId": "c7417984-7ea8-42c4-ab52-4880cae674ca"
      },
      "execution_count": 30,
      "outputs": [
        {
          "output_type": "stream",
          "name": "stdout",
          "text": [
            "1.000000000000334\n"
          ]
        }
      ]
    },
    {
      "cell_type": "code",
      "source": [
        "def calculate_derivate_1():\n",
        "  h = 0.0001\n",
        "  a = Value(2.0, label = 'a')\n",
        "  b = Value(-3.0, label = 'b')\n",
        "  c = Value(10.0, label = 'c')\n",
        "  e = a * b; e.label = 'e'\n",
        "\n",
        "  d = e + c ; d.label = 'd'\n",
        "  f = Value(-2.0, label='f')\n",
        "  L = d * f; L.label = 'L'\n",
        "  L1 = L.data\n",
        "\n",
        "  # calculate L2 by nudings the a value by `h` to `a`\n",
        "  a = Value(2.0 + h, label = 'a')\n",
        "  b = Value(-3.0, label = 'b')\n",
        "  c = Value(10.0, label = 'c')\n",
        "  e = a * b; e.label = 'e'\n",
        "\n",
        "  d = e + c ; d.label = 'd'\n",
        "  f = Value(-2.0, label='f')\n",
        "  L = d * f; L.label = 'L'\n",
        "  L2 = L.data\n",
        "\n",
        "  print((L2 - L1)/h)\n",
        "calculate_derivate()"
      ],
      "metadata": {
        "colab": {
          "base_uri": "https://localhost:8080/"
        },
        "id": "4jOJjDsO-E21",
        "outputId": "2e3e21bd-5853-41ad-eea6-8bfce0290ad4"
      },
      "execution_count": 31,
      "outputs": [
        {
          "output_type": "stream",
          "name": "stdout",
          "text": [
            "6.000000000021544\n"
          ]
        }
      ]
    },
    {
      "cell_type": "code",
      "source": [
        "L.grad = 1\n",
        "draw_dot(L)"
      ],
      "metadata": {
        "colab": {
          "base_uri": "https://localhost:8080/",
          "height": 226
        },
        "id": "9GZ73zXMJeoB",
        "outputId": "b6684bcd-b3f5-4f42-8d49-be6bd4b37007"
      },
      "execution_count": 73,
      "outputs": [
        {
          "output_type": "execute_result",
          "data": {
            "image/svg+xml": "<?xml version=\"1.0\" encoding=\"UTF-8\" standalone=\"no\"?>\n<!DOCTYPE svg PUBLIC \"-//W3C//DTD SVG 1.1//EN\"\n \"http://www.w3.org/Graphics/SVG/1.1/DTD/svg11.dtd\">\n<!-- Generated by graphviz version 2.43.0 (0)\n -->\n<!-- Title: %3 Pages: 1 -->\n<svg width=\"1148pt\" height=\"154pt\"\n viewBox=\"0.00 0.00 1148.00 154.00\" xmlns=\"http://www.w3.org/2000/svg\" xmlns:xlink=\"http://www.w3.org/1999/xlink\">\n<g id=\"graph0\" class=\"graph\" transform=\"scale(1 1) rotate(0) translate(4 150)\">\n<title>%3</title>\n<polygon fill=\"white\" stroke=\"transparent\" points=\"-4,4 -4,-150 1144,-150 1144,4 -4,4\"/>\n<!-- 138511022046816 -->\n<g id=\"node1\" class=\"node\">\n<title>138511022046816</title>\n<polygon fill=\"none\" stroke=\"black\" points=\"635.5,-54.5 635.5,-90.5 820.5,-90.5 820.5,-54.5 635.5,-54.5\"/>\n<text text-anchor=\"middle\" x=\"647\" y=\"-68.8\" font-family=\"Times,serif\" font-size=\"14.00\">d</text>\n<polyline fill=\"none\" stroke=\"black\" points=\"658.5,-54.5 658.5,-90.5 \"/>\n<text text-anchor=\"middle\" x=\"698.5\" y=\"-68.8\" font-family=\"Times,serif\" font-size=\"14.00\">data 4.0000</text>\n<polyline fill=\"none\" stroke=\"black\" points=\"738.5,-54.5 738.5,-90.5 \"/>\n<text text-anchor=\"middle\" x=\"779.5\" y=\"-68.8\" font-family=\"Times,serif\" font-size=\"14.00\">grad 0.0000</text>\n</g>\n<!-- 138511022032608* -->\n<g id=\"node7\" class=\"node\">\n<title>138511022032608*</title>\n<ellipse fill=\"none\" stroke=\"black\" cx=\"885\" cy=\"-99.5\" rx=\"27\" ry=\"18\"/>\n<text text-anchor=\"middle\" x=\"885\" y=\"-95.8\" font-family=\"Times,serif\" font-size=\"14.00\">*</text>\n</g>\n<!-- 138511022046816&#45;&gt;138511022032608* -->\n<g id=\"edge8\" class=\"edge\">\n<title>138511022046816&#45;&gt;138511022032608*</title>\n<path fill=\"none\" stroke=\"black\" d=\"M820.51,-88.44C830.48,-90.18 840.13,-91.86 848.77,-93.36\"/>\n<polygon fill=\"black\" stroke=\"black\" points=\"848.31,-96.84 858.77,-95.1 849.52,-89.94 848.31,-96.84\"/>\n</g>\n<!-- 138511022046816+ -->\n<g id=\"node2\" class=\"node\">\n<title>138511022046816+</title>\n<ellipse fill=\"none\" stroke=\"black\" cx=\"571\" cy=\"-72.5\" rx=\"27\" ry=\"18\"/>\n<text text-anchor=\"middle\" x=\"571\" y=\"-68.8\" font-family=\"Times,serif\" font-size=\"14.00\">+</text>\n</g>\n<!-- 138511022046816+&#45;&gt;138511022046816 -->\n<g id=\"edge1\" class=\"edge\">\n<title>138511022046816+&#45;&gt;138511022046816</title>\n<path fill=\"none\" stroke=\"black\" d=\"M598.29,-72.5C606.26,-72.5 615.54,-72.5 625.39,-72.5\"/>\n<polygon fill=\"black\" stroke=\"black\" points=\"625.41,-76 635.41,-72.5 625.41,-69 625.41,-76\"/>\n</g>\n<!-- 138511022046336 -->\n<g id=\"node3\" class=\"node\">\n<title>138511022046336</title>\n<polygon fill=\"none\" stroke=\"black\" points=\"634,-109.5 634,-145.5 822,-145.5 822,-109.5 634,-109.5\"/>\n<text text-anchor=\"middle\" x=\"644.5\" y=\"-123.8\" font-family=\"Times,serif\" font-size=\"14.00\">f</text>\n<polyline fill=\"none\" stroke=\"black\" points=\"655,-109.5 655,-145.5 \"/>\n<text text-anchor=\"middle\" x=\"697.5\" y=\"-123.8\" font-family=\"Times,serif\" font-size=\"14.00\">data &#45;2.0000</text>\n<polyline fill=\"none\" stroke=\"black\" points=\"740,-109.5 740,-145.5 \"/>\n<text text-anchor=\"middle\" x=\"781\" y=\"-123.8\" font-family=\"Times,serif\" font-size=\"14.00\">grad 0.0000</text>\n</g>\n<!-- 138511022046336&#45;&gt;138511022032608* -->\n<g id=\"edge4\" class=\"edge\">\n<title>138511022046336&#45;&gt;138511022032608*</title>\n<path fill=\"none\" stroke=\"black\" d=\"M822.29,-110.65C831.57,-108.97 840.52,-107.35 848.61,-105.89\"/>\n<polygon fill=\"black\" stroke=\"black\" points=\"849.46,-109.3 858.68,-104.07 848.21,-102.41 849.46,-109.3\"/>\n</g>\n<!-- 138511022046912 -->\n<g id=\"node4\" class=\"node\">\n<title>138511022046912</title>\n<polygon fill=\"none\" stroke=\"black\" points=\"2.5,-55.5 2.5,-91.5 187.5,-91.5 187.5,-55.5 2.5,-55.5\"/>\n<text text-anchor=\"middle\" x=\"14\" y=\"-69.8\" font-family=\"Times,serif\" font-size=\"14.00\">a</text>\n<polyline fill=\"none\" stroke=\"black\" points=\"25.5,-55.5 25.5,-91.5 \"/>\n<text text-anchor=\"middle\" x=\"65.5\" y=\"-69.8\" font-family=\"Times,serif\" font-size=\"14.00\">data 2.0000</text>\n<polyline fill=\"none\" stroke=\"black\" points=\"105.5,-55.5 105.5,-91.5 \"/>\n<text text-anchor=\"middle\" x=\"146.5\" y=\"-69.8\" font-family=\"Times,serif\" font-size=\"14.00\">grad 0.0000</text>\n</g>\n<!-- 138511022036784* -->\n<g id=\"node9\" class=\"node\">\n<title>138511022036784*</title>\n<ellipse fill=\"none\" stroke=\"black\" cx=\"253\" cy=\"-45.5\" rx=\"27\" ry=\"18\"/>\n<text text-anchor=\"middle\" x=\"253\" y=\"-41.8\" font-family=\"Times,serif\" font-size=\"14.00\">*</text>\n</g>\n<!-- 138511022046912&#45;&gt;138511022036784* -->\n<g id=\"edge6\" class=\"edge\">\n<title>138511022046912&#45;&gt;138511022036784*</title>\n<path fill=\"none\" stroke=\"black\" d=\"M187.65,-57.05C197.94,-55.2 207.91,-53.41 216.81,-51.82\"/>\n<polygon fill=\"black\" stroke=\"black\" points=\"217.48,-55.25 226.71,-50.04 216.25,-48.36 217.48,-55.25\"/>\n</g>\n<!-- 138511022039760 -->\n<g id=\"node5\" class=\"node\">\n<title>138511022039760</title>\n<polygon fill=\"none\" stroke=\"black\" points=\"316,-82.5 316,-118.5 508,-118.5 508,-82.5 316,-82.5\"/>\n<text text-anchor=\"middle\" x=\"327.5\" y=\"-96.8\" font-family=\"Times,serif\" font-size=\"14.00\">c</text>\n<polyline fill=\"none\" stroke=\"black\" points=\"339,-82.5 339,-118.5 \"/>\n<text text-anchor=\"middle\" x=\"382.5\" y=\"-96.8\" font-family=\"Times,serif\" font-size=\"14.00\">data 10.0000</text>\n<polyline fill=\"none\" stroke=\"black\" points=\"426,-82.5 426,-118.5 \"/>\n<text text-anchor=\"middle\" x=\"467\" y=\"-96.8\" font-family=\"Times,serif\" font-size=\"14.00\">grad 0.0000</text>\n</g>\n<!-- 138511022039760&#45;&gt;138511022046816+ -->\n<g id=\"edge9\" class=\"edge\">\n<title>138511022039760&#45;&gt;138511022046816+</title>\n<path fill=\"none\" stroke=\"black\" d=\"M508.4,-83.49C517.69,-81.83 526.64,-80.23 534.71,-78.79\"/>\n<polygon fill=\"black\" stroke=\"black\" points=\"535.53,-82.2 544.76,-77 534.31,-75.31 535.53,-82.2\"/>\n</g>\n<!-- 138511022032608 -->\n<g id=\"node6\" class=\"node\">\n<title>138511022032608</title>\n<polygon fill=\"none\" stroke=\"black\" points=\"948,-81.5 948,-117.5 1140,-117.5 1140,-81.5 948,-81.5\"/>\n<text text-anchor=\"middle\" x=\"960.5\" y=\"-95.8\" font-family=\"Times,serif\" font-size=\"14.00\">L</text>\n<polyline fill=\"none\" stroke=\"black\" points=\"973,-81.5 973,-117.5 \"/>\n<text text-anchor=\"middle\" x=\"1015.5\" y=\"-95.8\" font-family=\"Times,serif\" font-size=\"14.00\">data &#45;8.0000</text>\n<polyline fill=\"none\" stroke=\"black\" points=\"1058,-81.5 1058,-117.5 \"/>\n<text text-anchor=\"middle\" x=\"1099\" y=\"-95.8\" font-family=\"Times,serif\" font-size=\"14.00\">grad 1.0000</text>\n</g>\n<!-- 138511022032608*&#45;&gt;138511022032608 -->\n<g id=\"edge2\" class=\"edge\">\n<title>138511022032608*&#45;&gt;138511022032608</title>\n<path fill=\"none\" stroke=\"black\" d=\"M912.28,-99.5C919.78,-99.5 928.44,-99.5 937.67,-99.5\"/>\n<polygon fill=\"black\" stroke=\"black\" points=\"937.87,-103 947.87,-99.5 937.87,-96 937.87,-103\"/>\n</g>\n<!-- 138511022036784 -->\n<g id=\"node8\" class=\"node\">\n<title>138511022036784</title>\n<polygon fill=\"none\" stroke=\"black\" points=\"317,-27.5 317,-63.5 507,-63.5 507,-27.5 317,-27.5\"/>\n<text text-anchor=\"middle\" x=\"328.5\" y=\"-41.8\" font-family=\"Times,serif\" font-size=\"14.00\">e</text>\n<polyline fill=\"none\" stroke=\"black\" points=\"340,-27.5 340,-63.5 \"/>\n<text text-anchor=\"middle\" x=\"382.5\" y=\"-41.8\" font-family=\"Times,serif\" font-size=\"14.00\">data &#45;6.0000</text>\n<polyline fill=\"none\" stroke=\"black\" points=\"425,-27.5 425,-63.5 \"/>\n<text text-anchor=\"middle\" x=\"466\" y=\"-41.8\" font-family=\"Times,serif\" font-size=\"14.00\">grad 0.0000</text>\n</g>\n<!-- 138511022036784&#45;&gt;138511022046816+ -->\n<g id=\"edge7\" class=\"edge\">\n<title>138511022036784&#45;&gt;138511022046816+</title>\n<path fill=\"none\" stroke=\"black\" d=\"M507.05,-61.67C516.78,-63.35 526.18,-64.96 534.62,-66.42\"/>\n<polygon fill=\"black\" stroke=\"black\" points=\"534.3,-69.91 544.75,-68.16 535.49,-63.01 534.3,-69.91\"/>\n</g>\n<!-- 138511022036784*&#45;&gt;138511022036784 -->\n<g id=\"edge3\" class=\"edge\">\n<title>138511022036784*&#45;&gt;138511022036784</title>\n<path fill=\"none\" stroke=\"black\" d=\"M280.28,-45.5C288.05,-45.5 297.08,-45.5 306.68,-45.5\"/>\n<polygon fill=\"black\" stroke=\"black\" points=\"306.88,-49 316.88,-45.5 306.88,-42 306.88,-49\"/>\n</g>\n<!-- 138511022037360 -->\n<g id=\"node10\" class=\"node\">\n<title>138511022037360</title>\n<polygon fill=\"none\" stroke=\"black\" points=\"0,-0.5 0,-36.5 190,-36.5 190,-0.5 0,-0.5\"/>\n<text text-anchor=\"middle\" x=\"11.5\" y=\"-14.8\" font-family=\"Times,serif\" font-size=\"14.00\">b</text>\n<polyline fill=\"none\" stroke=\"black\" points=\"23,-0.5 23,-36.5 \"/>\n<text text-anchor=\"middle\" x=\"65.5\" y=\"-14.8\" font-family=\"Times,serif\" font-size=\"14.00\">data &#45;3.0000</text>\n<polyline fill=\"none\" stroke=\"black\" points=\"108,-0.5 108,-36.5 \"/>\n<text text-anchor=\"middle\" x=\"149\" y=\"-14.8\" font-family=\"Times,serif\" font-size=\"14.00\">grad 0.0000</text>\n</g>\n<!-- 138511022037360&#45;&gt;138511022036784* -->\n<g id=\"edge5\" class=\"edge\">\n<title>138511022037360&#45;&gt;138511022036784*</title>\n<path fill=\"none\" stroke=\"black\" d=\"M190.34,-34.83C199.62,-36.44 208.58,-37.99 216.66,-39.38\"/>\n<polygon fill=\"black\" stroke=\"black\" points=\"216.27,-42.87 226.72,-41.12 217.46,-35.97 216.27,-42.87\"/>\n</g>\n</g>\n</svg>\n",
            "text/plain": [
              "<graphviz.graphs.Digraph at 0x7df99c3fe870>"
            ]
          },
          "metadata": {},
          "execution_count": 73
        }
      ]
    },
    {
      "cell_type": "code",
      "source": [
        "# now let's calculate grad for `d` first\n",
        "'''\n",
        "L = d * f\n",
        "  dL/dd =??? => f\n",
        "\n",
        "  - calculate\n",
        "  . (f(x + h) - f(x)) / h\n",
        "  . ((d + h) * f - d * f) / h)\n",
        "  . (d * f + h * f - d * f) / h)\n",
        "  . h * f / h\n",
        "  . => f\n",
        "\n",
        "  so from this calculation grad of `d` w.r.t `L` will be `d`\n",
        "'''\n",
        "f.grad = 4.0\n",
        "d.grad = -2.0\n",
        "draw_dot(L)"
      ],
      "metadata": {
        "colab": {
          "base_uri": "https://localhost:8080/",
          "height": 226
        },
        "id": "XIQemJNuL3ch",
        "outputId": "91a062f6-5acd-4ccd-c603-97e691a1b776"
      },
      "execution_count": 74,
      "outputs": [
        {
          "output_type": "execute_result",
          "data": {
            "image/svg+xml": "<?xml version=\"1.0\" encoding=\"UTF-8\" standalone=\"no\"?>\n<!DOCTYPE svg PUBLIC \"-//W3C//DTD SVG 1.1//EN\"\n \"http://www.w3.org/Graphics/SVG/1.1/DTD/svg11.dtd\">\n<!-- Generated by graphviz version 2.43.0 (0)\n -->\n<!-- Title: %3 Pages: 1 -->\n<svg width=\"1149pt\" height=\"154pt\"\n viewBox=\"0.00 0.00 1149.00 154.00\" xmlns=\"http://www.w3.org/2000/svg\" xmlns:xlink=\"http://www.w3.org/1999/xlink\">\n<g id=\"graph0\" class=\"graph\" transform=\"scale(1 1) rotate(0) translate(4 150)\">\n<title>%3</title>\n<polygon fill=\"white\" stroke=\"transparent\" points=\"-4,4 -4,-150 1145,-150 1145,4 -4,4\"/>\n<!-- 138511022046816 -->\n<g id=\"node1\" class=\"node\">\n<title>138511022046816</title>\n<polygon fill=\"none\" stroke=\"black\" points=\"634,-54.5 634,-90.5 823,-90.5 823,-54.5 634,-54.5\"/>\n<text text-anchor=\"middle\" x=\"645.5\" y=\"-68.8\" font-family=\"Times,serif\" font-size=\"14.00\">d</text>\n<polyline fill=\"none\" stroke=\"black\" points=\"657,-54.5 657,-90.5 \"/>\n<text text-anchor=\"middle\" x=\"697\" y=\"-68.8\" font-family=\"Times,serif\" font-size=\"14.00\">data 4.0000</text>\n<polyline fill=\"none\" stroke=\"black\" points=\"737,-54.5 737,-90.5 \"/>\n<text text-anchor=\"middle\" x=\"780\" y=\"-68.8\" font-family=\"Times,serif\" font-size=\"14.00\">grad &#45;2.0000</text>\n</g>\n<!-- 138511022032608* -->\n<g id=\"node7\" class=\"node\">\n<title>138511022032608*</title>\n<ellipse fill=\"none\" stroke=\"black\" cx=\"886\" cy=\"-99.5\" rx=\"27\" ry=\"18\"/>\n<text text-anchor=\"middle\" x=\"886\" y=\"-95.8\" font-family=\"Times,serif\" font-size=\"14.00\">*</text>\n</g>\n<!-- 138511022046816&#45;&gt;138511022032608* -->\n<g id=\"edge8\" class=\"edge\">\n<title>138511022046816&#45;&gt;138511022032608*</title>\n<path fill=\"none\" stroke=\"black\" d=\"M823.1,-88.75C832.4,-90.37 841.38,-91.93 849.49,-93.33\"/>\n<polygon fill=\"black\" stroke=\"black\" points=\"849.14,-96.83 859.59,-95.09 850.34,-89.93 849.14,-96.83\"/>\n</g>\n<!-- 138511022046816+ -->\n<g id=\"node2\" class=\"node\">\n<title>138511022046816+</title>\n<ellipse fill=\"none\" stroke=\"black\" cx=\"571\" cy=\"-72.5\" rx=\"27\" ry=\"18\"/>\n<text text-anchor=\"middle\" x=\"571\" y=\"-68.8\" font-family=\"Times,serif\" font-size=\"14.00\">+</text>\n</g>\n<!-- 138511022046816+&#45;&gt;138511022046816 -->\n<g id=\"edge1\" class=\"edge\">\n<title>138511022046816+&#45;&gt;138511022046816</title>\n<path fill=\"none\" stroke=\"black\" d=\"M598.03,-72.5C605.66,-72.5 614.52,-72.5 623.94,-72.5\"/>\n<polygon fill=\"black\" stroke=\"black\" points=\"623.94,-76 633.94,-72.5 623.94,-69 623.94,-76\"/>\n</g>\n<!-- 138511022046336 -->\n<g id=\"node3\" class=\"node\">\n<title>138511022046336</title>\n<polygon fill=\"none\" stroke=\"black\" points=\"634.5,-109.5 634.5,-145.5 822.5,-145.5 822.5,-109.5 634.5,-109.5\"/>\n<text text-anchor=\"middle\" x=\"645\" y=\"-123.8\" font-family=\"Times,serif\" font-size=\"14.00\">f</text>\n<polyline fill=\"none\" stroke=\"black\" points=\"655.5,-109.5 655.5,-145.5 \"/>\n<text text-anchor=\"middle\" x=\"698\" y=\"-123.8\" font-family=\"Times,serif\" font-size=\"14.00\">data &#45;2.0000</text>\n<polyline fill=\"none\" stroke=\"black\" points=\"740.5,-109.5 740.5,-145.5 \"/>\n<text text-anchor=\"middle\" x=\"781.5\" y=\"-123.8\" font-family=\"Times,serif\" font-size=\"14.00\">grad 4.0000</text>\n</g>\n<!-- 138511022046336&#45;&gt;138511022032608* -->\n<g id=\"edge4\" class=\"edge\">\n<title>138511022046336&#45;&gt;138511022032608*</title>\n<path fill=\"none\" stroke=\"black\" d=\"M822.65,-110.73C832.2,-109.01 841.43,-107.35 849.72,-105.85\"/>\n<polygon fill=\"black\" stroke=\"black\" points=\"850.47,-109.27 859.69,-104.06 849.23,-102.39 850.47,-109.27\"/>\n</g>\n<!-- 138511022046912 -->\n<g id=\"node4\" class=\"node\">\n<title>138511022046912</title>\n<polygon fill=\"none\" stroke=\"black\" points=\"2.5,-55.5 2.5,-91.5 187.5,-91.5 187.5,-55.5 2.5,-55.5\"/>\n<text text-anchor=\"middle\" x=\"14\" y=\"-69.8\" font-family=\"Times,serif\" font-size=\"14.00\">a</text>\n<polyline fill=\"none\" stroke=\"black\" points=\"25.5,-55.5 25.5,-91.5 \"/>\n<text text-anchor=\"middle\" x=\"65.5\" y=\"-69.8\" font-family=\"Times,serif\" font-size=\"14.00\">data 2.0000</text>\n<polyline fill=\"none\" stroke=\"black\" points=\"105.5,-55.5 105.5,-91.5 \"/>\n<text text-anchor=\"middle\" x=\"146.5\" y=\"-69.8\" font-family=\"Times,serif\" font-size=\"14.00\">grad 0.0000</text>\n</g>\n<!-- 138511022036784* -->\n<g id=\"node9\" class=\"node\">\n<title>138511022036784*</title>\n<ellipse fill=\"none\" stroke=\"black\" cx=\"253\" cy=\"-45.5\" rx=\"27\" ry=\"18\"/>\n<text text-anchor=\"middle\" x=\"253\" y=\"-41.8\" font-family=\"Times,serif\" font-size=\"14.00\">*</text>\n</g>\n<!-- 138511022046912&#45;&gt;138511022036784* -->\n<g id=\"edge6\" class=\"edge\">\n<title>138511022046912&#45;&gt;138511022036784*</title>\n<path fill=\"none\" stroke=\"black\" d=\"M187.65,-57.05C197.94,-55.2 207.91,-53.41 216.81,-51.82\"/>\n<polygon fill=\"black\" stroke=\"black\" points=\"217.48,-55.25 226.71,-50.04 216.25,-48.36 217.48,-55.25\"/>\n</g>\n<!-- 138511022039760 -->\n<g id=\"node5\" class=\"node\">\n<title>138511022039760</title>\n<polygon fill=\"none\" stroke=\"black\" points=\"316,-82.5 316,-118.5 508,-118.5 508,-82.5 316,-82.5\"/>\n<text text-anchor=\"middle\" x=\"327.5\" y=\"-96.8\" font-family=\"Times,serif\" font-size=\"14.00\">c</text>\n<polyline fill=\"none\" stroke=\"black\" points=\"339,-82.5 339,-118.5 \"/>\n<text text-anchor=\"middle\" x=\"382.5\" y=\"-96.8\" font-family=\"Times,serif\" font-size=\"14.00\">data 10.0000</text>\n<polyline fill=\"none\" stroke=\"black\" points=\"426,-82.5 426,-118.5 \"/>\n<text text-anchor=\"middle\" x=\"467\" y=\"-96.8\" font-family=\"Times,serif\" font-size=\"14.00\">grad 0.0000</text>\n</g>\n<!-- 138511022039760&#45;&gt;138511022046816+ -->\n<g id=\"edge9\" class=\"edge\">\n<title>138511022039760&#45;&gt;138511022046816+</title>\n<path fill=\"none\" stroke=\"black\" d=\"M508.4,-83.49C517.69,-81.83 526.64,-80.23 534.71,-78.79\"/>\n<polygon fill=\"black\" stroke=\"black\" points=\"535.53,-82.2 544.76,-77 534.31,-75.31 535.53,-82.2\"/>\n</g>\n<!-- 138511022032608 -->\n<g id=\"node6\" class=\"node\">\n<title>138511022032608</title>\n<polygon fill=\"none\" stroke=\"black\" points=\"949,-81.5 949,-117.5 1141,-117.5 1141,-81.5 949,-81.5\"/>\n<text text-anchor=\"middle\" x=\"961.5\" y=\"-95.8\" font-family=\"Times,serif\" font-size=\"14.00\">L</text>\n<polyline fill=\"none\" stroke=\"black\" points=\"974,-81.5 974,-117.5 \"/>\n<text text-anchor=\"middle\" x=\"1016.5\" y=\"-95.8\" font-family=\"Times,serif\" font-size=\"14.00\">data &#45;8.0000</text>\n<polyline fill=\"none\" stroke=\"black\" points=\"1059,-81.5 1059,-117.5 \"/>\n<text text-anchor=\"middle\" x=\"1100\" y=\"-95.8\" font-family=\"Times,serif\" font-size=\"14.00\">grad 1.0000</text>\n</g>\n<!-- 138511022032608*&#45;&gt;138511022032608 -->\n<g id=\"edge2\" class=\"edge\">\n<title>138511022032608*&#45;&gt;138511022032608</title>\n<path fill=\"none\" stroke=\"black\" d=\"M913.28,-99.5C920.78,-99.5 929.44,-99.5 938.67,-99.5\"/>\n<polygon fill=\"black\" stroke=\"black\" points=\"938.87,-103 948.87,-99.5 938.87,-96 938.87,-103\"/>\n</g>\n<!-- 138511022036784 -->\n<g id=\"node8\" class=\"node\">\n<title>138511022036784</title>\n<polygon fill=\"none\" stroke=\"black\" points=\"317,-27.5 317,-63.5 507,-63.5 507,-27.5 317,-27.5\"/>\n<text text-anchor=\"middle\" x=\"328.5\" y=\"-41.8\" font-family=\"Times,serif\" font-size=\"14.00\">e</text>\n<polyline fill=\"none\" stroke=\"black\" points=\"340,-27.5 340,-63.5 \"/>\n<text text-anchor=\"middle\" x=\"382.5\" y=\"-41.8\" font-family=\"Times,serif\" font-size=\"14.00\">data &#45;6.0000</text>\n<polyline fill=\"none\" stroke=\"black\" points=\"425,-27.5 425,-63.5 \"/>\n<text text-anchor=\"middle\" x=\"466\" y=\"-41.8\" font-family=\"Times,serif\" font-size=\"14.00\">grad 0.0000</text>\n</g>\n<!-- 138511022036784&#45;&gt;138511022046816+ -->\n<g id=\"edge7\" class=\"edge\">\n<title>138511022036784&#45;&gt;138511022046816+</title>\n<path fill=\"none\" stroke=\"black\" d=\"M507.05,-61.67C516.78,-63.35 526.18,-64.96 534.62,-66.42\"/>\n<polygon fill=\"black\" stroke=\"black\" points=\"534.3,-69.91 544.75,-68.16 535.49,-63.01 534.3,-69.91\"/>\n</g>\n<!-- 138511022036784*&#45;&gt;138511022036784 -->\n<g id=\"edge3\" class=\"edge\">\n<title>138511022036784*&#45;&gt;138511022036784</title>\n<path fill=\"none\" stroke=\"black\" d=\"M280.28,-45.5C288.05,-45.5 297.08,-45.5 306.68,-45.5\"/>\n<polygon fill=\"black\" stroke=\"black\" points=\"306.88,-49 316.88,-45.5 306.88,-42 306.88,-49\"/>\n</g>\n<!-- 138511022037360 -->\n<g id=\"node10\" class=\"node\">\n<title>138511022037360</title>\n<polygon fill=\"none\" stroke=\"black\" points=\"0,-0.5 0,-36.5 190,-36.5 190,-0.5 0,-0.5\"/>\n<text text-anchor=\"middle\" x=\"11.5\" y=\"-14.8\" font-family=\"Times,serif\" font-size=\"14.00\">b</text>\n<polyline fill=\"none\" stroke=\"black\" points=\"23,-0.5 23,-36.5 \"/>\n<text text-anchor=\"middle\" x=\"65.5\" y=\"-14.8\" font-family=\"Times,serif\" font-size=\"14.00\">data &#45;3.0000</text>\n<polyline fill=\"none\" stroke=\"black\" points=\"108,-0.5 108,-36.5 \"/>\n<text text-anchor=\"middle\" x=\"149\" y=\"-14.8\" font-family=\"Times,serif\" font-size=\"14.00\">grad 0.0000</text>\n</g>\n<!-- 138511022037360&#45;&gt;138511022036784* -->\n<g id=\"edge5\" class=\"edge\">\n<title>138511022037360&#45;&gt;138511022036784*</title>\n<path fill=\"none\" stroke=\"black\" d=\"M190.34,-34.83C199.62,-36.44 208.58,-37.99 216.66,-39.38\"/>\n<polygon fill=\"black\" stroke=\"black\" points=\"216.27,-42.87 226.72,-41.12 217.46,-35.97 216.27,-42.87\"/>\n</g>\n</g>\n</svg>\n",
            "text/plain": [
              "<graphviz.graphs.Digraph at 0x7df99c3ff740>"
            ]
          },
          "metadata": {},
          "execution_count": 74
        }
      ]
    },
    {
      "cell_type": "code",
      "source": [
        "# now using calculate_derivate method verify the grad\n",
        "# dL/dd = -2\n",
        "def calculate_derivate_2():\n",
        "  h = 0.001\n",
        "  a = Value(2.0, label = 'a')\n",
        "  b = Value(-3.0, label = 'b')\n",
        "  c = Value(10.0, label = 'c')\n",
        "  e = a * b; e.label = 'e'\n",
        "\n",
        "  d = e + c ; d.label = 'd'\n",
        "  f = Value(-2.0, label='f')\n",
        "  L = d * f; L.label = 'L'\n",
        "  L1 = L.data\n",
        "\n",
        "  a = Value(2.0, label = 'a')\n",
        "  b = Value(-3.0, label = 'b')\n",
        "  c = Value(10.0, label = 'c')\n",
        "  e = a * b; e.label = 'e'\n",
        "\n",
        "  d = e + c ; d.label = 'd'\n",
        "  # change `d` by `h`\n",
        "  d.data += h\n",
        "\n",
        "  f = Value(-2.0, label='f')\n",
        "  L = d * f; L.label = 'L'\n",
        "  L2 = L.data\n",
        "\n",
        "  print((L2 - L1)/h)\n",
        "calculate_derivate()"
      ],
      "metadata": {
        "colab": {
          "base_uri": "https://localhost:8080/"
        },
        "id": "HcedB-yLNYzA",
        "outputId": "0a2fc5ff-a773-4f7e-a0a2-ed006dcd61ae"
      },
      "execution_count": 63,
      "outputs": [
        {
          "output_type": "stream",
          "name": "stdout",
          "text": [
            "-2.000000000000668\n"
          ]
        }
      ]
    },
    {
      "cell_type": "code",
      "source": [
        "# dL/df = -4\n",
        "def calculate_derivate_3():\n",
        "  h = 0.001\n",
        "  a = Value(2.0, label = 'a')\n",
        "  b = Value(-3.0, label = 'b')\n",
        "  c = Value(10.0, label = 'c')\n",
        "  e = a * b; e.label = 'e'\n",
        "\n",
        "  d = e + c ; d.label = 'd'\n",
        "  f = Value(-2.0, label='f')\n",
        "  L = d * f; L.label = 'L'\n",
        "  L1 = L.data\n",
        "\n",
        "  a = Value(2.0, label = 'a')\n",
        "  b = Value(-3.0, label = 'b')\n",
        "  c = Value(10.0, label = 'c')\n",
        "  e = a * b; e.label = 'e'\n",
        "\n",
        "  d = e + c ; d.label = 'd'\n",
        "  # change `f` by `h`\n",
        "  f = Value(-2.0, label='f')\n",
        "  f.data += h\n",
        "  L = d * f; L.label = 'L'\n",
        "  L2 = L.data\n",
        "\n",
        "  print((L2 - L1)/h)\n",
        "calculate_derivate()\n",
        "draw_dot(L)"
      ],
      "metadata": {
        "colab": {
          "base_uri": "https://localhost:8080/",
          "height": 243
        },
        "id": "NypB0d-wOGhe",
        "outputId": "654a03fe-1ccb-479f-e69b-547e85654c34"
      },
      "execution_count": 84,
      "outputs": [
        {
          "output_type": "stream",
          "name": "stdout",
          "text": [
            "-2.000000000000668\n"
          ]
        },
        {
          "output_type": "execute_result",
          "data": {
            "image/svg+xml": "<?xml version=\"1.0\" encoding=\"UTF-8\" standalone=\"no\"?>\n<!DOCTYPE svg PUBLIC \"-//W3C//DTD SVG 1.1//EN\"\n \"http://www.w3.org/Graphics/SVG/1.1/DTD/svg11.dtd\">\n<!-- Generated by graphviz version 2.43.0 (0)\n -->\n<!-- Title: %3 Pages: 1 -->\n<svg width=\"1153pt\" height=\"154pt\"\n viewBox=\"0.00 0.00 1153.00 154.00\" xmlns=\"http://www.w3.org/2000/svg\" xmlns:xlink=\"http://www.w3.org/1999/xlink\">\n<g id=\"graph0\" class=\"graph\" transform=\"scale(1 1) rotate(0) translate(4 150)\">\n<title>%3</title>\n<polygon fill=\"white\" stroke=\"transparent\" points=\"-4,4 -4,-150 1149,-150 1149,4 -4,4\"/>\n<!-- 138511022046816 -->\n<g id=\"node1\" class=\"node\">\n<title>138511022046816</title>\n<polygon fill=\"none\" stroke=\"black\" points=\"638,-54.5 638,-90.5 827,-90.5 827,-54.5 638,-54.5\"/>\n<text text-anchor=\"middle\" x=\"649.5\" y=\"-68.8\" font-family=\"Times,serif\" font-size=\"14.00\">d</text>\n<polyline fill=\"none\" stroke=\"black\" points=\"661,-54.5 661,-90.5 \"/>\n<text text-anchor=\"middle\" x=\"701\" y=\"-68.8\" font-family=\"Times,serif\" font-size=\"14.00\">data 4.0000</text>\n<polyline fill=\"none\" stroke=\"black\" points=\"741,-54.5 741,-90.5 \"/>\n<text text-anchor=\"middle\" x=\"784\" y=\"-68.8\" font-family=\"Times,serif\" font-size=\"14.00\">grad &#45;2.0000</text>\n</g>\n<!-- 138511022032608* -->\n<g id=\"node7\" class=\"node\">\n<title>138511022032608*</title>\n<ellipse fill=\"none\" stroke=\"black\" cx=\"890\" cy=\"-99.5\" rx=\"27\" ry=\"18\"/>\n<text text-anchor=\"middle\" x=\"890\" y=\"-95.8\" font-family=\"Times,serif\" font-size=\"14.00\">*</text>\n</g>\n<!-- 138511022046816&#45;&gt;138511022032608* -->\n<g id=\"edge8\" class=\"edge\">\n<title>138511022046816&#45;&gt;138511022032608*</title>\n<path fill=\"none\" stroke=\"black\" d=\"M827.1,-88.75C836.4,-90.37 845.38,-91.93 853.49,-93.33\"/>\n<polygon fill=\"black\" stroke=\"black\" points=\"853.14,-96.83 863.59,-95.09 854.34,-89.93 853.14,-96.83\"/>\n</g>\n<!-- 138511022046816+ -->\n<g id=\"node2\" class=\"node\">\n<title>138511022046816+</title>\n<ellipse fill=\"none\" stroke=\"black\" cx=\"575\" cy=\"-72.5\" rx=\"27\" ry=\"18\"/>\n<text text-anchor=\"middle\" x=\"575\" y=\"-68.8\" font-family=\"Times,serif\" font-size=\"14.00\">+</text>\n</g>\n<!-- 138511022046816+&#45;&gt;138511022046816 -->\n<g id=\"edge1\" class=\"edge\">\n<title>138511022046816+&#45;&gt;138511022046816</title>\n<path fill=\"none\" stroke=\"black\" d=\"M602.03,-72.5C609.66,-72.5 618.52,-72.5 627.94,-72.5\"/>\n<polygon fill=\"black\" stroke=\"black\" points=\"627.94,-76 637.94,-72.5 627.94,-69 627.94,-76\"/>\n</g>\n<!-- 138511022046336 -->\n<g id=\"node3\" class=\"node\">\n<title>138511022046336</title>\n<polygon fill=\"none\" stroke=\"black\" points=\"638.5,-109.5 638.5,-145.5 826.5,-145.5 826.5,-109.5 638.5,-109.5\"/>\n<text text-anchor=\"middle\" x=\"649\" y=\"-123.8\" font-family=\"Times,serif\" font-size=\"14.00\">f</text>\n<polyline fill=\"none\" stroke=\"black\" points=\"659.5,-109.5 659.5,-145.5 \"/>\n<text text-anchor=\"middle\" x=\"702\" y=\"-123.8\" font-family=\"Times,serif\" font-size=\"14.00\">data &#45;2.0000</text>\n<polyline fill=\"none\" stroke=\"black\" points=\"744.5,-109.5 744.5,-145.5 \"/>\n<text text-anchor=\"middle\" x=\"785.5\" y=\"-123.8\" font-family=\"Times,serif\" font-size=\"14.00\">grad 4.0000</text>\n</g>\n<!-- 138511022046336&#45;&gt;138511022032608* -->\n<g id=\"edge4\" class=\"edge\">\n<title>138511022046336&#45;&gt;138511022032608*</title>\n<path fill=\"none\" stroke=\"black\" d=\"M826.65,-110.73C836.2,-109.01 845.43,-107.35 853.72,-105.85\"/>\n<polygon fill=\"black\" stroke=\"black\" points=\"854.47,-109.27 863.69,-104.06 853.23,-102.39 854.47,-109.27\"/>\n</g>\n<!-- 138511022046912 -->\n<g id=\"node4\" class=\"node\">\n<title>138511022046912</title>\n<polygon fill=\"none\" stroke=\"black\" points=\"2.5,-55.5 2.5,-91.5 187.5,-91.5 187.5,-55.5 2.5,-55.5\"/>\n<text text-anchor=\"middle\" x=\"14\" y=\"-69.8\" font-family=\"Times,serif\" font-size=\"14.00\">a</text>\n<polyline fill=\"none\" stroke=\"black\" points=\"25.5,-55.5 25.5,-91.5 \"/>\n<text text-anchor=\"middle\" x=\"65.5\" y=\"-69.8\" font-family=\"Times,serif\" font-size=\"14.00\">data 2.0000</text>\n<polyline fill=\"none\" stroke=\"black\" points=\"105.5,-55.5 105.5,-91.5 \"/>\n<text text-anchor=\"middle\" x=\"146.5\" y=\"-69.8\" font-family=\"Times,serif\" font-size=\"14.00\">grad 6.0000</text>\n</g>\n<!-- 138511022036784* -->\n<g id=\"node9\" class=\"node\">\n<title>138511022036784*</title>\n<ellipse fill=\"none\" stroke=\"black\" cx=\"253\" cy=\"-45.5\" rx=\"27\" ry=\"18\"/>\n<text text-anchor=\"middle\" x=\"253\" y=\"-41.8\" font-family=\"Times,serif\" font-size=\"14.00\">*</text>\n</g>\n<!-- 138511022046912&#45;&gt;138511022036784* -->\n<g id=\"edge6\" class=\"edge\">\n<title>138511022046912&#45;&gt;138511022036784*</title>\n<path fill=\"none\" stroke=\"black\" d=\"M187.65,-57.05C197.94,-55.2 207.91,-53.41 216.81,-51.82\"/>\n<polygon fill=\"black\" stroke=\"black\" points=\"217.48,-55.25 226.71,-50.04 216.25,-48.36 217.48,-55.25\"/>\n</g>\n<!-- 138511022039760 -->\n<g id=\"node5\" class=\"node\">\n<title>138511022039760</title>\n<polygon fill=\"none\" stroke=\"black\" points=\"316,-82.5 316,-118.5 512,-118.5 512,-82.5 316,-82.5\"/>\n<text text-anchor=\"middle\" x=\"327.5\" y=\"-96.8\" font-family=\"Times,serif\" font-size=\"14.00\">c</text>\n<polyline fill=\"none\" stroke=\"black\" points=\"339,-82.5 339,-118.5 \"/>\n<text text-anchor=\"middle\" x=\"382.5\" y=\"-96.8\" font-family=\"Times,serif\" font-size=\"14.00\">data 10.0000</text>\n<polyline fill=\"none\" stroke=\"black\" points=\"426,-82.5 426,-118.5 \"/>\n<text text-anchor=\"middle\" x=\"469\" y=\"-96.8\" font-family=\"Times,serif\" font-size=\"14.00\">grad &#45;2.0000</text>\n</g>\n<!-- 138511022039760&#45;&gt;138511022046816+ -->\n<g id=\"edge9\" class=\"edge\">\n<title>138511022039760&#45;&gt;138511022046816+</title>\n<path fill=\"none\" stroke=\"black\" d=\"M512.07,-83.41C521.42,-81.76 530.43,-80.17 538.55,-78.74\"/>\n<polygon fill=\"black\" stroke=\"black\" points=\"539.41,-82.15 548.65,-76.96 538.2,-75.25 539.41,-82.15\"/>\n</g>\n<!-- 138511022032608 -->\n<g id=\"node6\" class=\"node\">\n<title>138511022032608</title>\n<polygon fill=\"none\" stroke=\"black\" points=\"953,-81.5 953,-117.5 1145,-117.5 1145,-81.5 953,-81.5\"/>\n<text text-anchor=\"middle\" x=\"965.5\" y=\"-95.8\" font-family=\"Times,serif\" font-size=\"14.00\">L</text>\n<polyline fill=\"none\" stroke=\"black\" points=\"978,-81.5 978,-117.5 \"/>\n<text text-anchor=\"middle\" x=\"1020.5\" y=\"-95.8\" font-family=\"Times,serif\" font-size=\"14.00\">data &#45;8.0000</text>\n<polyline fill=\"none\" stroke=\"black\" points=\"1063,-81.5 1063,-117.5 \"/>\n<text text-anchor=\"middle\" x=\"1104\" y=\"-95.8\" font-family=\"Times,serif\" font-size=\"14.00\">grad 1.0000</text>\n</g>\n<!-- 138511022032608*&#45;&gt;138511022032608 -->\n<g id=\"edge2\" class=\"edge\">\n<title>138511022032608*&#45;&gt;138511022032608</title>\n<path fill=\"none\" stroke=\"black\" d=\"M917.28,-99.5C924.78,-99.5 933.44,-99.5 942.67,-99.5\"/>\n<polygon fill=\"black\" stroke=\"black\" points=\"942.87,-103 952.87,-99.5 942.87,-96 942.87,-103\"/>\n</g>\n<!-- 138511022036784 -->\n<g id=\"node8\" class=\"node\">\n<title>138511022036784</title>\n<polygon fill=\"none\" stroke=\"black\" points=\"317,-27.5 317,-63.5 511,-63.5 511,-27.5 317,-27.5\"/>\n<text text-anchor=\"middle\" x=\"328.5\" y=\"-41.8\" font-family=\"Times,serif\" font-size=\"14.00\">e</text>\n<polyline fill=\"none\" stroke=\"black\" points=\"340,-27.5 340,-63.5 \"/>\n<text text-anchor=\"middle\" x=\"382.5\" y=\"-41.8\" font-family=\"Times,serif\" font-size=\"14.00\">data &#45;6.0000</text>\n<polyline fill=\"none\" stroke=\"black\" points=\"425,-27.5 425,-63.5 \"/>\n<text text-anchor=\"middle\" x=\"468\" y=\"-41.8\" font-family=\"Times,serif\" font-size=\"14.00\">grad &#45;2.0000</text>\n</g>\n<!-- 138511022036784&#45;&gt;138511022046816+ -->\n<g id=\"edge7\" class=\"edge\">\n<title>138511022036784&#45;&gt;138511022046816+</title>\n<path fill=\"none\" stroke=\"black\" d=\"M511.16,-61.83C520.82,-63.47 530.13,-65.05 538.49,-66.47\"/>\n<polygon fill=\"black\" stroke=\"black\" points=\"538.09,-69.95 548.54,-68.18 539.26,-63.05 538.09,-69.95\"/>\n</g>\n<!-- 138511022036784*&#45;&gt;138511022036784 -->\n<g id=\"edge3\" class=\"edge\">\n<title>138511022036784*&#45;&gt;138511022036784</title>\n<path fill=\"none\" stroke=\"black\" d=\"M280.26,-45.5C288.05,-45.5 297.1,-45.5 306.75,-45.5\"/>\n<polygon fill=\"black\" stroke=\"black\" points=\"306.99,-49 316.99,-45.5 306.99,-42 306.99,-49\"/>\n</g>\n<!-- 138511022037360 -->\n<g id=\"node10\" class=\"node\">\n<title>138511022037360</title>\n<polygon fill=\"none\" stroke=\"black\" points=\"0,-0.5 0,-36.5 190,-36.5 190,-0.5 0,-0.5\"/>\n<text text-anchor=\"middle\" x=\"11.5\" y=\"-14.8\" font-family=\"Times,serif\" font-size=\"14.00\">b</text>\n<polyline fill=\"none\" stroke=\"black\" points=\"23,-0.5 23,-36.5 \"/>\n<text text-anchor=\"middle\" x=\"65.5\" y=\"-14.8\" font-family=\"Times,serif\" font-size=\"14.00\">data &#45;3.0000</text>\n<polyline fill=\"none\" stroke=\"black\" points=\"108,-0.5 108,-36.5 \"/>\n<text text-anchor=\"middle\" x=\"149\" y=\"-14.8\" font-family=\"Times,serif\" font-size=\"14.00\">grad 0.0000</text>\n</g>\n<!-- 138511022037360&#45;&gt;138511022036784* -->\n<g id=\"edge5\" class=\"edge\">\n<title>138511022037360&#45;&gt;138511022036784*</title>\n<path fill=\"none\" stroke=\"black\" d=\"M190.34,-34.83C199.62,-36.44 208.58,-37.99 216.66,-39.38\"/>\n<polygon fill=\"black\" stroke=\"black\" points=\"216.27,-42.87 226.72,-41.12 217.46,-35.97 216.27,-42.87\"/>\n</g>\n</g>\n</svg>\n",
            "text/plain": [
              "<graphviz.graphs.Digraph at 0x7df99c41d160>"
            ]
          },
          "metadata": {},
          "execution_count": 84
        }
      ]
    },
    {
      "cell_type": "markdown",
      "source": [],
      "metadata": {
        "id": "9oV1iqdBO_ed"
      }
    },
    {
      "cell_type": "code",
      "source": [
        "# now dL/dc\n",
        "'''\n",
        "- we know how L is sensitive to d & f\n",
        "- no we want to know how L is sensitive to c\n",
        "\n",
        "first we compute how c impacts d\n",
        "\n",
        "- dd / dc = ? 1.0 # by calculas rule of sum function\n",
        "- let's derive this\n",
        "- d = c + e\n",
        ". (f(x + h) - f(x)) / h\n",
        ". (c + h + e) - (c + e) / h\n",
        ". c + h + e - c - e / h\n",
        ". h / h\n",
        ". => 1.0\n",
        "\n",
        "simialrly by symmetry\n",
        "dd / de = 1.0\n",
        "- derivative of sum operation is 1.0 (local derivative)\n",
        "\n",
        "- how these info will help in computing how c impacts L (output)??\n",
        "- by chain rule\n",
        "\n",
        "The chain rule may also be expressed in Leibniz's notation. If a variable z depends on the variable y,\n",
        "which itself depends on the variable x (that is, y and z are dependent variables),\n",
        "then z depends on x as well, via the intermediate variable y.\n",
        "\n",
        "- a dot prodct of the 2 derivatives\n",
        "\n",
        "\"If a car travels twice as fast as a bicycle and the bicycle is four times as fast as a walking man,\n",
        "then the car travels 2 × 4 = 8 times as fast as the man.\"\n",
        "\n",
        "dL / dc =??\n",
        "\n",
        "KNOW:\n",
        "dL / dd = -2.0\n",
        "dd / dc = 1.0\n",
        "\n",
        "by chain rule\n",
        "=> dL / dc = (dL / dd) * (dd / dc) => -2.0 * 1.0\n",
        "=> since dd/dc is 1.0 so basically we copy over the derivateive dL/dd to dL/dc\n",
        "- so what + node does is routes the local gradient\n",
        "\n",
        "c.grad = -2.0 * 1 = -2.0\n",
        "e.grad = -2.0 * 1 = -2.0\n",
        "'''\n",
        "c.grad = -2.0\n",
        "e.grad = -2.0"
      ],
      "metadata": {
        "id": "cPIzkNccOx_2"
      },
      "execution_count": 76,
      "outputs": []
    },
    {
      "cell_type": "code",
      "source": [
        "# lets vierify this with calculate_derivative\n",
        "# dL/dc = -2\n",
        "def calculate_derivative_3():\n",
        "  h = 0.001\n",
        "  a = Value(2.0, label = 'a')\n",
        "  b = Value(-3.0, label = 'b')\n",
        "  c = Value(10.0, label = 'c')\n",
        "  e = a * b; e.label = 'e'\n",
        "\n",
        "  d = e + c ; d.label = 'd'\n",
        "  f = Value(-2.0, label='f')\n",
        "  L = d * f; L.label = 'L'\n",
        "  L1 = L.data\n",
        "\n",
        "  a = Value(2.0, label = 'a')\n",
        "  b = Value(-3.0, label = 'b')\n",
        "  # nudge `c` by `h`\n",
        "  c = Value(10.0 + h, label = 'c')\n",
        "  e = a * b; e.label = 'e'\n",
        "\n",
        "  d = e + c ; d.label = 'd'\n",
        "  f = Value(-2.0, label='f')\n",
        "  L = d * f; L.label = 'L'\n",
        "  L2 = L.data\n",
        "\n",
        "  print((L2 - L1)/h)\n",
        "calculate_derivate()"
      ],
      "metadata": {
        "colab": {
          "base_uri": "https://localhost:8080/"
        },
        "id": "APdZXTzGW7EA",
        "outputId": "dcf111d7-6a38-431c-dd55-c263b578eec8"
      },
      "execution_count": 77,
      "outputs": [
        {
          "output_type": "stream",
          "name": "stdout",
          "text": [
            "-2.000000000000668\n"
          ]
        }
      ]
    },
    {
      "cell_type": "code",
      "source": [
        "# dL/de = -2\n",
        "def calculate_derivative_4():\n",
        "  h = 0.001\n",
        "  a = Value(2.0, label = 'a')\n",
        "  b = Value(-3.0, label = 'b')\n",
        "  c = Value(10.0, label = 'c')\n",
        "  e = a * b; e.label = 'e'\n",
        "\n",
        "  d = e + c ; d.label = 'd'\n",
        "  f = Value(-2.0, label='f')\n",
        "  L = d * f; L.label = 'L'\n",
        "  L1 = L.data\n",
        "\n",
        "  a = Value(2.0, label = 'a')\n",
        "  b = Value(-3.0, label = 'b')\n",
        "  c = Value(10.0, label = 'c')\n",
        "  e = a * b; e.label = 'e'\n",
        "  # nudge `e` by `h`\n",
        "  e.data += h\n",
        "\n",
        "  d = e + c ; d.label = 'd'\n",
        "  f = Value(-2.0, label='f')\n",
        "  L = d * f; L.label = 'L'\n",
        "  L2 = L.data\n",
        "\n",
        "  print((L2 - L1)/h)\n",
        "calculate_derivate()\n",
        "draw_dot(L)"
      ],
      "metadata": {
        "colab": {
          "base_uri": "https://localhost:8080/",
          "height": 243
        },
        "id": "kT_PKTA6XHCM",
        "outputId": "d7ff7e5e-c694-4431-ba80-3a0b4b684a63"
      },
      "execution_count": 78,
      "outputs": [
        {
          "output_type": "stream",
          "name": "stdout",
          "text": [
            "-2.000000000000668\n"
          ]
        },
        {
          "output_type": "execute_result",
          "data": {
            "image/svg+xml": "<?xml version=\"1.0\" encoding=\"UTF-8\" standalone=\"no\"?>\n<!DOCTYPE svg PUBLIC \"-//W3C//DTD SVG 1.1//EN\"\n \"http://www.w3.org/Graphics/SVG/1.1/DTD/svg11.dtd\">\n<!-- Generated by graphviz version 2.43.0 (0)\n -->\n<!-- Title: %3 Pages: 1 -->\n<svg width=\"1153pt\" height=\"154pt\"\n viewBox=\"0.00 0.00 1153.00 154.00\" xmlns=\"http://www.w3.org/2000/svg\" xmlns:xlink=\"http://www.w3.org/1999/xlink\">\n<g id=\"graph0\" class=\"graph\" transform=\"scale(1 1) rotate(0) translate(4 150)\">\n<title>%3</title>\n<polygon fill=\"white\" stroke=\"transparent\" points=\"-4,4 -4,-150 1149,-150 1149,4 -4,4\"/>\n<!-- 138511022046816 -->\n<g id=\"node1\" class=\"node\">\n<title>138511022046816</title>\n<polygon fill=\"none\" stroke=\"black\" points=\"638,-54.5 638,-90.5 827,-90.5 827,-54.5 638,-54.5\"/>\n<text text-anchor=\"middle\" x=\"649.5\" y=\"-68.8\" font-family=\"Times,serif\" font-size=\"14.00\">d</text>\n<polyline fill=\"none\" stroke=\"black\" points=\"661,-54.5 661,-90.5 \"/>\n<text text-anchor=\"middle\" x=\"701\" y=\"-68.8\" font-family=\"Times,serif\" font-size=\"14.00\">data 4.0000</text>\n<polyline fill=\"none\" stroke=\"black\" points=\"741,-54.5 741,-90.5 \"/>\n<text text-anchor=\"middle\" x=\"784\" y=\"-68.8\" font-family=\"Times,serif\" font-size=\"14.00\">grad &#45;2.0000</text>\n</g>\n<!-- 138511022032608* -->\n<g id=\"node7\" class=\"node\">\n<title>138511022032608*</title>\n<ellipse fill=\"none\" stroke=\"black\" cx=\"890\" cy=\"-99.5\" rx=\"27\" ry=\"18\"/>\n<text text-anchor=\"middle\" x=\"890\" y=\"-95.8\" font-family=\"Times,serif\" font-size=\"14.00\">*</text>\n</g>\n<!-- 138511022046816&#45;&gt;138511022032608* -->\n<g id=\"edge8\" class=\"edge\">\n<title>138511022046816&#45;&gt;138511022032608*</title>\n<path fill=\"none\" stroke=\"black\" d=\"M827.1,-88.75C836.4,-90.37 845.38,-91.93 853.49,-93.33\"/>\n<polygon fill=\"black\" stroke=\"black\" points=\"853.14,-96.83 863.59,-95.09 854.34,-89.93 853.14,-96.83\"/>\n</g>\n<!-- 138511022046816+ -->\n<g id=\"node2\" class=\"node\">\n<title>138511022046816+</title>\n<ellipse fill=\"none\" stroke=\"black\" cx=\"575\" cy=\"-72.5\" rx=\"27\" ry=\"18\"/>\n<text text-anchor=\"middle\" x=\"575\" y=\"-68.8\" font-family=\"Times,serif\" font-size=\"14.00\">+</text>\n</g>\n<!-- 138511022046816+&#45;&gt;138511022046816 -->\n<g id=\"edge1\" class=\"edge\">\n<title>138511022046816+&#45;&gt;138511022046816</title>\n<path fill=\"none\" stroke=\"black\" d=\"M602.03,-72.5C609.66,-72.5 618.52,-72.5 627.94,-72.5\"/>\n<polygon fill=\"black\" stroke=\"black\" points=\"627.94,-76 637.94,-72.5 627.94,-69 627.94,-76\"/>\n</g>\n<!-- 138511022046336 -->\n<g id=\"node3\" class=\"node\">\n<title>138511022046336</title>\n<polygon fill=\"none\" stroke=\"black\" points=\"638.5,-109.5 638.5,-145.5 826.5,-145.5 826.5,-109.5 638.5,-109.5\"/>\n<text text-anchor=\"middle\" x=\"649\" y=\"-123.8\" font-family=\"Times,serif\" font-size=\"14.00\">f</text>\n<polyline fill=\"none\" stroke=\"black\" points=\"659.5,-109.5 659.5,-145.5 \"/>\n<text text-anchor=\"middle\" x=\"702\" y=\"-123.8\" font-family=\"Times,serif\" font-size=\"14.00\">data &#45;2.0000</text>\n<polyline fill=\"none\" stroke=\"black\" points=\"744.5,-109.5 744.5,-145.5 \"/>\n<text text-anchor=\"middle\" x=\"785.5\" y=\"-123.8\" font-family=\"Times,serif\" font-size=\"14.00\">grad 4.0000</text>\n</g>\n<!-- 138511022046336&#45;&gt;138511022032608* -->\n<g id=\"edge4\" class=\"edge\">\n<title>138511022046336&#45;&gt;138511022032608*</title>\n<path fill=\"none\" stroke=\"black\" d=\"M826.65,-110.73C836.2,-109.01 845.43,-107.35 853.72,-105.85\"/>\n<polygon fill=\"black\" stroke=\"black\" points=\"854.47,-109.27 863.69,-104.06 853.23,-102.39 854.47,-109.27\"/>\n</g>\n<!-- 138511022046912 -->\n<g id=\"node4\" class=\"node\">\n<title>138511022046912</title>\n<polygon fill=\"none\" stroke=\"black\" points=\"2.5,-55.5 2.5,-91.5 187.5,-91.5 187.5,-55.5 2.5,-55.5\"/>\n<text text-anchor=\"middle\" x=\"14\" y=\"-69.8\" font-family=\"Times,serif\" font-size=\"14.00\">a</text>\n<polyline fill=\"none\" stroke=\"black\" points=\"25.5,-55.5 25.5,-91.5 \"/>\n<text text-anchor=\"middle\" x=\"65.5\" y=\"-69.8\" font-family=\"Times,serif\" font-size=\"14.00\">data 2.0000</text>\n<polyline fill=\"none\" stroke=\"black\" points=\"105.5,-55.5 105.5,-91.5 \"/>\n<text text-anchor=\"middle\" x=\"146.5\" y=\"-69.8\" font-family=\"Times,serif\" font-size=\"14.00\">grad 0.0000</text>\n</g>\n<!-- 138511022036784* -->\n<g id=\"node9\" class=\"node\">\n<title>138511022036784*</title>\n<ellipse fill=\"none\" stroke=\"black\" cx=\"253\" cy=\"-45.5\" rx=\"27\" ry=\"18\"/>\n<text text-anchor=\"middle\" x=\"253\" y=\"-41.8\" font-family=\"Times,serif\" font-size=\"14.00\">*</text>\n</g>\n<!-- 138511022046912&#45;&gt;138511022036784* -->\n<g id=\"edge6\" class=\"edge\">\n<title>138511022046912&#45;&gt;138511022036784*</title>\n<path fill=\"none\" stroke=\"black\" d=\"M187.65,-57.05C197.94,-55.2 207.91,-53.41 216.81,-51.82\"/>\n<polygon fill=\"black\" stroke=\"black\" points=\"217.48,-55.25 226.71,-50.04 216.25,-48.36 217.48,-55.25\"/>\n</g>\n<!-- 138511022039760 -->\n<g id=\"node5\" class=\"node\">\n<title>138511022039760</title>\n<polygon fill=\"none\" stroke=\"black\" points=\"316,-82.5 316,-118.5 512,-118.5 512,-82.5 316,-82.5\"/>\n<text text-anchor=\"middle\" x=\"327.5\" y=\"-96.8\" font-family=\"Times,serif\" font-size=\"14.00\">c</text>\n<polyline fill=\"none\" stroke=\"black\" points=\"339,-82.5 339,-118.5 \"/>\n<text text-anchor=\"middle\" x=\"382.5\" y=\"-96.8\" font-family=\"Times,serif\" font-size=\"14.00\">data 10.0000</text>\n<polyline fill=\"none\" stroke=\"black\" points=\"426,-82.5 426,-118.5 \"/>\n<text text-anchor=\"middle\" x=\"469\" y=\"-96.8\" font-family=\"Times,serif\" font-size=\"14.00\">grad &#45;2.0000</text>\n</g>\n<!-- 138511022039760&#45;&gt;138511022046816+ -->\n<g id=\"edge9\" class=\"edge\">\n<title>138511022039760&#45;&gt;138511022046816+</title>\n<path fill=\"none\" stroke=\"black\" d=\"M512.07,-83.41C521.42,-81.76 530.43,-80.17 538.55,-78.74\"/>\n<polygon fill=\"black\" stroke=\"black\" points=\"539.41,-82.15 548.65,-76.96 538.2,-75.25 539.41,-82.15\"/>\n</g>\n<!-- 138511022032608 -->\n<g id=\"node6\" class=\"node\">\n<title>138511022032608</title>\n<polygon fill=\"none\" stroke=\"black\" points=\"953,-81.5 953,-117.5 1145,-117.5 1145,-81.5 953,-81.5\"/>\n<text text-anchor=\"middle\" x=\"965.5\" y=\"-95.8\" font-family=\"Times,serif\" font-size=\"14.00\">L</text>\n<polyline fill=\"none\" stroke=\"black\" points=\"978,-81.5 978,-117.5 \"/>\n<text text-anchor=\"middle\" x=\"1020.5\" y=\"-95.8\" font-family=\"Times,serif\" font-size=\"14.00\">data &#45;8.0000</text>\n<polyline fill=\"none\" stroke=\"black\" points=\"1063,-81.5 1063,-117.5 \"/>\n<text text-anchor=\"middle\" x=\"1104\" y=\"-95.8\" font-family=\"Times,serif\" font-size=\"14.00\">grad 1.0000</text>\n</g>\n<!-- 138511022032608*&#45;&gt;138511022032608 -->\n<g id=\"edge2\" class=\"edge\">\n<title>138511022032608*&#45;&gt;138511022032608</title>\n<path fill=\"none\" stroke=\"black\" d=\"M917.28,-99.5C924.78,-99.5 933.44,-99.5 942.67,-99.5\"/>\n<polygon fill=\"black\" stroke=\"black\" points=\"942.87,-103 952.87,-99.5 942.87,-96 942.87,-103\"/>\n</g>\n<!-- 138511022036784 -->\n<g id=\"node8\" class=\"node\">\n<title>138511022036784</title>\n<polygon fill=\"none\" stroke=\"black\" points=\"317,-27.5 317,-63.5 511,-63.5 511,-27.5 317,-27.5\"/>\n<text text-anchor=\"middle\" x=\"328.5\" y=\"-41.8\" font-family=\"Times,serif\" font-size=\"14.00\">e</text>\n<polyline fill=\"none\" stroke=\"black\" points=\"340,-27.5 340,-63.5 \"/>\n<text text-anchor=\"middle\" x=\"382.5\" y=\"-41.8\" font-family=\"Times,serif\" font-size=\"14.00\">data &#45;6.0000</text>\n<polyline fill=\"none\" stroke=\"black\" points=\"425,-27.5 425,-63.5 \"/>\n<text text-anchor=\"middle\" x=\"468\" y=\"-41.8\" font-family=\"Times,serif\" font-size=\"14.00\">grad &#45;2.0000</text>\n</g>\n<!-- 138511022036784&#45;&gt;138511022046816+ -->\n<g id=\"edge7\" class=\"edge\">\n<title>138511022036784&#45;&gt;138511022046816+</title>\n<path fill=\"none\" stroke=\"black\" d=\"M511.16,-61.83C520.82,-63.47 530.13,-65.05 538.49,-66.47\"/>\n<polygon fill=\"black\" stroke=\"black\" points=\"538.09,-69.95 548.54,-68.18 539.26,-63.05 538.09,-69.95\"/>\n</g>\n<!-- 138511022036784*&#45;&gt;138511022036784 -->\n<g id=\"edge3\" class=\"edge\">\n<title>138511022036784*&#45;&gt;138511022036784</title>\n<path fill=\"none\" stroke=\"black\" d=\"M280.26,-45.5C288.05,-45.5 297.1,-45.5 306.75,-45.5\"/>\n<polygon fill=\"black\" stroke=\"black\" points=\"306.99,-49 316.99,-45.5 306.99,-42 306.99,-49\"/>\n</g>\n<!-- 138511022037360 -->\n<g id=\"node10\" class=\"node\">\n<title>138511022037360</title>\n<polygon fill=\"none\" stroke=\"black\" points=\"0,-0.5 0,-36.5 190,-36.5 190,-0.5 0,-0.5\"/>\n<text text-anchor=\"middle\" x=\"11.5\" y=\"-14.8\" font-family=\"Times,serif\" font-size=\"14.00\">b</text>\n<polyline fill=\"none\" stroke=\"black\" points=\"23,-0.5 23,-36.5 \"/>\n<text text-anchor=\"middle\" x=\"65.5\" y=\"-14.8\" font-family=\"Times,serif\" font-size=\"14.00\">data &#45;3.0000</text>\n<polyline fill=\"none\" stroke=\"black\" points=\"108,-0.5 108,-36.5 \"/>\n<text text-anchor=\"middle\" x=\"149\" y=\"-14.8\" font-family=\"Times,serif\" font-size=\"14.00\">grad 0.0000</text>\n</g>\n<!-- 138511022037360&#45;&gt;138511022036784* -->\n<g id=\"edge5\" class=\"edge\">\n<title>138511022037360&#45;&gt;138511022036784*</title>\n<path fill=\"none\" stroke=\"black\" d=\"M190.34,-34.83C199.62,-36.44 208.58,-37.99 216.66,-39.38\"/>\n<polygon fill=\"black\" stroke=\"black\" points=\"216.27,-42.87 226.72,-41.12 217.46,-35.97 216.27,-42.87\"/>\n</g>\n</g>\n</svg>\n",
            "text/plain": [
              "<graphviz.graphs.Digraph at 0x7df99c3fd9a0>"
            ]
          },
          "metadata": {},
          "execution_count": 78
        }
      ]
    },
    {
      "cell_type": "code",
      "source": [
        "# so far derivatives are\n",
        "'''\n",
        "- dL / de = -2\n",
        "\n",
        "now we have one node left; lets calcualte derivative of that\n",
        "de / da = lcoal gradient ; how `e` changes w.r.t `a`\n",
        "dL / da = (dL / de )* (de / da)\n",
        "\n",
        "=> e = a * b\n",
        "=> de / da ? = b # from oor first derivative derivation of `d`\n",
        "--- + --\n",
        "=> de / db ? = a\n",
        "\n",
        "a.grad = (-2.0 * -3.0) = 6.0\n",
        "b.grad = (-2.0 * 2.0) = -4.0\n",
        "'''\n",
        "\n",
        "a.grad = 6.0\n",
        "b.grad = -4.0"
      ],
      "metadata": {
        "id": "v_KbcK0yXYb1"
      },
      "execution_count": 79,
      "outputs": []
    },
    {
      "cell_type": "code",
      "source": [
        "# lets vierify this with calculate_derivative\n",
        "# dL/da = 6.0\n",
        "def calculate_derivative_5():\n",
        "  h = 0.001\n",
        "  a = Value(2.0, label = 'a')\n",
        "  b = Value(-3.0, label = 'b')\n",
        "  c = Value(10.0, label = 'c')\n",
        "  e = a * b; e.label = 'e'\n",
        "\n",
        "  d = e + c ; d.label = 'd'\n",
        "  f = Value(-2.0, label='f')\n",
        "  L = d * f; L.label = 'L'\n",
        "  L1 = L.data\n",
        "  # nudge `a` by `h`\n",
        "  a = Value(2.0 + h, label = 'a')\n",
        "  b = Value(-3.0, label = 'b')\n",
        "  c = Value(10.0, label = 'c')\n",
        "  e = a * b; e.label = 'e'\n",
        "\n",
        "  d = e + c ; d.label = 'd'\n",
        "  f = Value(-2.0, label='f')\n",
        "  L = d * f; L.label = 'L'\n",
        "  L2 = L.data\n",
        "\n",
        "  print((L2 - L1)/h)\n",
        "calculate_derivate()"
      ],
      "metadata": {
        "colab": {
          "base_uri": "https://localhost:8080/"
        },
        "id": "XN3PJob_Zgy9",
        "outputId": "adceeb2b-9a9f-4358-f344-f6b7564dba07"
      },
      "execution_count": 52,
      "outputs": [
        {
          "output_type": "stream",
          "name": "stdout",
          "text": [
            "6.000000000000227\n"
          ]
        }
      ]
    },
    {
      "cell_type": "code",
      "source": [
        "# dL/df = -4\n",
        "def calculate_derivate():\n",
        "  h = 0.001\n",
        "  a = Value(2.0, label = 'a')\n",
        "  b = Value(-3.0, label = 'b')\n",
        "  c = Value(10.0, label = 'c')\n",
        "  e = a * b; e.label = 'e'\n",
        "\n",
        "  d = e + c ; d.label = 'd'\n",
        "  f = Value(-2.0, label='f')\n",
        "  L = d * f; L.label = 'L'\n",
        "  L1 = L.data\n",
        "\n",
        "  a = Value(2.0, label = 'a')\n",
        "  b = Value(-3.0, label = 'b')\n",
        "  c = Value(10.0, label = 'c')\n",
        "  e = a * b; e.label = 'e'\n",
        "\n",
        "  d = e + c ; d.label = 'd'\n",
        "  # change `f` by `h`\n",
        "  f = Value(-2.0 + h, label='f')\n",
        "  L = d * f; L.label = 'L'\n",
        "  L2 = L.data\n",
        "\n",
        "  print((L2 - L1)/h)\n",
        "calculate_derivate()\n",
        "draw_dot(L)"
      ],
      "metadata": {
        "colab": {
          "base_uri": "https://localhost:8080/",
          "height": 243
        },
        "id": "V_vI1jSTZ1O9",
        "outputId": "e69510f2-fb59-4b05-e53b-e0c5e0bd3cde"
      },
      "execution_count": 85,
      "outputs": [
        {
          "output_type": "stream",
          "name": "stdout",
          "text": [
            "3.9999999999995595\n"
          ]
        },
        {
          "output_type": "execute_result",
          "data": {
            "image/svg+xml": "<?xml version=\"1.0\" encoding=\"UTF-8\" standalone=\"no\"?>\n<!DOCTYPE svg PUBLIC \"-//W3C//DTD SVG 1.1//EN\"\n \"http://www.w3.org/Graphics/SVG/1.1/DTD/svg11.dtd\">\n<!-- Generated by graphviz version 2.43.0 (0)\n -->\n<!-- Title: %3 Pages: 1 -->\n<svg width=\"1153pt\" height=\"154pt\"\n viewBox=\"0.00 0.00 1153.00 154.00\" xmlns=\"http://www.w3.org/2000/svg\" xmlns:xlink=\"http://www.w3.org/1999/xlink\">\n<g id=\"graph0\" class=\"graph\" transform=\"scale(1 1) rotate(0) translate(4 150)\">\n<title>%3</title>\n<polygon fill=\"white\" stroke=\"transparent\" points=\"-4,4 -4,-150 1149,-150 1149,4 -4,4\"/>\n<!-- 138511022046816 -->\n<g id=\"node1\" class=\"node\">\n<title>138511022046816</title>\n<polygon fill=\"none\" stroke=\"black\" points=\"638,-54.5 638,-90.5 827,-90.5 827,-54.5 638,-54.5\"/>\n<text text-anchor=\"middle\" x=\"649.5\" y=\"-68.8\" font-family=\"Times,serif\" font-size=\"14.00\">d</text>\n<polyline fill=\"none\" stroke=\"black\" points=\"661,-54.5 661,-90.5 \"/>\n<text text-anchor=\"middle\" x=\"701\" y=\"-68.8\" font-family=\"Times,serif\" font-size=\"14.00\">data 4.0000</text>\n<polyline fill=\"none\" stroke=\"black\" points=\"741,-54.5 741,-90.5 \"/>\n<text text-anchor=\"middle\" x=\"784\" y=\"-68.8\" font-family=\"Times,serif\" font-size=\"14.00\">grad &#45;2.0000</text>\n</g>\n<!-- 138511022032608* -->\n<g id=\"node7\" class=\"node\">\n<title>138511022032608*</title>\n<ellipse fill=\"none\" stroke=\"black\" cx=\"890\" cy=\"-99.5\" rx=\"27\" ry=\"18\"/>\n<text text-anchor=\"middle\" x=\"890\" y=\"-95.8\" font-family=\"Times,serif\" font-size=\"14.00\">*</text>\n</g>\n<!-- 138511022046816&#45;&gt;138511022032608* -->\n<g id=\"edge8\" class=\"edge\">\n<title>138511022046816&#45;&gt;138511022032608*</title>\n<path fill=\"none\" stroke=\"black\" d=\"M827.1,-88.75C836.4,-90.37 845.38,-91.93 853.49,-93.33\"/>\n<polygon fill=\"black\" stroke=\"black\" points=\"853.14,-96.83 863.59,-95.09 854.34,-89.93 853.14,-96.83\"/>\n</g>\n<!-- 138511022046816+ -->\n<g id=\"node2\" class=\"node\">\n<title>138511022046816+</title>\n<ellipse fill=\"none\" stroke=\"black\" cx=\"575\" cy=\"-72.5\" rx=\"27\" ry=\"18\"/>\n<text text-anchor=\"middle\" x=\"575\" y=\"-68.8\" font-family=\"Times,serif\" font-size=\"14.00\">+</text>\n</g>\n<!-- 138511022046816+&#45;&gt;138511022046816 -->\n<g id=\"edge1\" class=\"edge\">\n<title>138511022046816+&#45;&gt;138511022046816</title>\n<path fill=\"none\" stroke=\"black\" d=\"M602.03,-72.5C609.66,-72.5 618.52,-72.5 627.94,-72.5\"/>\n<polygon fill=\"black\" stroke=\"black\" points=\"627.94,-76 637.94,-72.5 627.94,-69 627.94,-76\"/>\n</g>\n<!-- 138511022046336 -->\n<g id=\"node3\" class=\"node\">\n<title>138511022046336</title>\n<polygon fill=\"none\" stroke=\"black\" points=\"638.5,-109.5 638.5,-145.5 826.5,-145.5 826.5,-109.5 638.5,-109.5\"/>\n<text text-anchor=\"middle\" x=\"649\" y=\"-123.8\" font-family=\"Times,serif\" font-size=\"14.00\">f</text>\n<polyline fill=\"none\" stroke=\"black\" points=\"659.5,-109.5 659.5,-145.5 \"/>\n<text text-anchor=\"middle\" x=\"702\" y=\"-123.8\" font-family=\"Times,serif\" font-size=\"14.00\">data &#45;2.0000</text>\n<polyline fill=\"none\" stroke=\"black\" points=\"744.5,-109.5 744.5,-145.5 \"/>\n<text text-anchor=\"middle\" x=\"785.5\" y=\"-123.8\" font-family=\"Times,serif\" font-size=\"14.00\">grad 4.0000</text>\n</g>\n<!-- 138511022046336&#45;&gt;138511022032608* -->\n<g id=\"edge4\" class=\"edge\">\n<title>138511022046336&#45;&gt;138511022032608*</title>\n<path fill=\"none\" stroke=\"black\" d=\"M826.65,-110.73C836.2,-109.01 845.43,-107.35 853.72,-105.85\"/>\n<polygon fill=\"black\" stroke=\"black\" points=\"854.47,-109.27 863.69,-104.06 853.23,-102.39 854.47,-109.27\"/>\n</g>\n<!-- 138511022046912 -->\n<g id=\"node4\" class=\"node\">\n<title>138511022046912</title>\n<polygon fill=\"none\" stroke=\"black\" points=\"2.5,-55.5 2.5,-91.5 187.5,-91.5 187.5,-55.5 2.5,-55.5\"/>\n<text text-anchor=\"middle\" x=\"14\" y=\"-69.8\" font-family=\"Times,serif\" font-size=\"14.00\">a</text>\n<polyline fill=\"none\" stroke=\"black\" points=\"25.5,-55.5 25.5,-91.5 \"/>\n<text text-anchor=\"middle\" x=\"65.5\" y=\"-69.8\" font-family=\"Times,serif\" font-size=\"14.00\">data 2.0000</text>\n<polyline fill=\"none\" stroke=\"black\" points=\"105.5,-55.5 105.5,-91.5 \"/>\n<text text-anchor=\"middle\" x=\"146.5\" y=\"-69.8\" font-family=\"Times,serif\" font-size=\"14.00\">grad 6.0000</text>\n</g>\n<!-- 138511022036784* -->\n<g id=\"node9\" class=\"node\">\n<title>138511022036784*</title>\n<ellipse fill=\"none\" stroke=\"black\" cx=\"253\" cy=\"-45.5\" rx=\"27\" ry=\"18\"/>\n<text text-anchor=\"middle\" x=\"253\" y=\"-41.8\" font-family=\"Times,serif\" font-size=\"14.00\">*</text>\n</g>\n<!-- 138511022046912&#45;&gt;138511022036784* -->\n<g id=\"edge6\" class=\"edge\">\n<title>138511022046912&#45;&gt;138511022036784*</title>\n<path fill=\"none\" stroke=\"black\" d=\"M187.65,-57.05C197.94,-55.2 207.91,-53.41 216.81,-51.82\"/>\n<polygon fill=\"black\" stroke=\"black\" points=\"217.48,-55.25 226.71,-50.04 216.25,-48.36 217.48,-55.25\"/>\n</g>\n<!-- 138511022039760 -->\n<g id=\"node5\" class=\"node\">\n<title>138511022039760</title>\n<polygon fill=\"none\" stroke=\"black\" points=\"316,-82.5 316,-118.5 512,-118.5 512,-82.5 316,-82.5\"/>\n<text text-anchor=\"middle\" x=\"327.5\" y=\"-96.8\" font-family=\"Times,serif\" font-size=\"14.00\">c</text>\n<polyline fill=\"none\" stroke=\"black\" points=\"339,-82.5 339,-118.5 \"/>\n<text text-anchor=\"middle\" x=\"382.5\" y=\"-96.8\" font-family=\"Times,serif\" font-size=\"14.00\">data 10.0000</text>\n<polyline fill=\"none\" stroke=\"black\" points=\"426,-82.5 426,-118.5 \"/>\n<text text-anchor=\"middle\" x=\"469\" y=\"-96.8\" font-family=\"Times,serif\" font-size=\"14.00\">grad &#45;2.0000</text>\n</g>\n<!-- 138511022039760&#45;&gt;138511022046816+ -->\n<g id=\"edge9\" class=\"edge\">\n<title>138511022039760&#45;&gt;138511022046816+</title>\n<path fill=\"none\" stroke=\"black\" d=\"M512.07,-83.41C521.42,-81.76 530.43,-80.17 538.55,-78.74\"/>\n<polygon fill=\"black\" stroke=\"black\" points=\"539.41,-82.15 548.65,-76.96 538.2,-75.25 539.41,-82.15\"/>\n</g>\n<!-- 138511022032608 -->\n<g id=\"node6\" class=\"node\">\n<title>138511022032608</title>\n<polygon fill=\"none\" stroke=\"black\" points=\"953,-81.5 953,-117.5 1145,-117.5 1145,-81.5 953,-81.5\"/>\n<text text-anchor=\"middle\" x=\"965.5\" y=\"-95.8\" font-family=\"Times,serif\" font-size=\"14.00\">L</text>\n<polyline fill=\"none\" stroke=\"black\" points=\"978,-81.5 978,-117.5 \"/>\n<text text-anchor=\"middle\" x=\"1020.5\" y=\"-95.8\" font-family=\"Times,serif\" font-size=\"14.00\">data &#45;8.0000</text>\n<polyline fill=\"none\" stroke=\"black\" points=\"1063,-81.5 1063,-117.5 \"/>\n<text text-anchor=\"middle\" x=\"1104\" y=\"-95.8\" font-family=\"Times,serif\" font-size=\"14.00\">grad 1.0000</text>\n</g>\n<!-- 138511022032608*&#45;&gt;138511022032608 -->\n<g id=\"edge2\" class=\"edge\">\n<title>138511022032608*&#45;&gt;138511022032608</title>\n<path fill=\"none\" stroke=\"black\" d=\"M917.28,-99.5C924.78,-99.5 933.44,-99.5 942.67,-99.5\"/>\n<polygon fill=\"black\" stroke=\"black\" points=\"942.87,-103 952.87,-99.5 942.87,-96 942.87,-103\"/>\n</g>\n<!-- 138511022036784 -->\n<g id=\"node8\" class=\"node\">\n<title>138511022036784</title>\n<polygon fill=\"none\" stroke=\"black\" points=\"317,-27.5 317,-63.5 511,-63.5 511,-27.5 317,-27.5\"/>\n<text text-anchor=\"middle\" x=\"328.5\" y=\"-41.8\" font-family=\"Times,serif\" font-size=\"14.00\">e</text>\n<polyline fill=\"none\" stroke=\"black\" points=\"340,-27.5 340,-63.5 \"/>\n<text text-anchor=\"middle\" x=\"382.5\" y=\"-41.8\" font-family=\"Times,serif\" font-size=\"14.00\">data &#45;6.0000</text>\n<polyline fill=\"none\" stroke=\"black\" points=\"425,-27.5 425,-63.5 \"/>\n<text text-anchor=\"middle\" x=\"468\" y=\"-41.8\" font-family=\"Times,serif\" font-size=\"14.00\">grad &#45;2.0000</text>\n</g>\n<!-- 138511022036784&#45;&gt;138511022046816+ -->\n<g id=\"edge7\" class=\"edge\">\n<title>138511022036784&#45;&gt;138511022046816+</title>\n<path fill=\"none\" stroke=\"black\" d=\"M511.16,-61.83C520.82,-63.47 530.13,-65.05 538.49,-66.47\"/>\n<polygon fill=\"black\" stroke=\"black\" points=\"538.09,-69.95 548.54,-68.18 539.26,-63.05 538.09,-69.95\"/>\n</g>\n<!-- 138511022036784*&#45;&gt;138511022036784 -->\n<g id=\"edge3\" class=\"edge\">\n<title>138511022036784*&#45;&gt;138511022036784</title>\n<path fill=\"none\" stroke=\"black\" d=\"M280.26,-45.5C288.05,-45.5 297.1,-45.5 306.75,-45.5\"/>\n<polygon fill=\"black\" stroke=\"black\" points=\"306.99,-49 316.99,-45.5 306.99,-42 306.99,-49\"/>\n</g>\n<!-- 138511022037360 -->\n<g id=\"node10\" class=\"node\">\n<title>138511022037360</title>\n<polygon fill=\"none\" stroke=\"black\" points=\"0,-0.5 0,-36.5 190,-36.5 190,-0.5 0,-0.5\"/>\n<text text-anchor=\"middle\" x=\"11.5\" y=\"-14.8\" font-family=\"Times,serif\" font-size=\"14.00\">b</text>\n<polyline fill=\"none\" stroke=\"black\" points=\"23,-0.5 23,-36.5 \"/>\n<text text-anchor=\"middle\" x=\"65.5\" y=\"-14.8\" font-family=\"Times,serif\" font-size=\"14.00\">data &#45;3.0000</text>\n<polyline fill=\"none\" stroke=\"black\" points=\"108,-0.5 108,-36.5 \"/>\n<text text-anchor=\"middle\" x=\"149\" y=\"-14.8\" font-family=\"Times,serif\" font-size=\"14.00\">grad 0.0000</text>\n</g>\n<!-- 138511022037360&#45;&gt;138511022036784* -->\n<g id=\"edge5\" class=\"edge\">\n<title>138511022037360&#45;&gt;138511022036784*</title>\n<path fill=\"none\" stroke=\"black\" d=\"M190.34,-34.83C199.62,-36.44 208.58,-37.99 216.66,-39.38\"/>\n<polygon fill=\"black\" stroke=\"black\" points=\"216.27,-42.87 226.72,-41.12 217.46,-35.97 216.27,-42.87\"/>\n</g>\n</g>\n</svg>\n",
            "text/plain": [
              "<graphviz.graphs.Digraph at 0x7df99e6e9e80>"
            ]
          },
          "metadata": {},
          "execution_count": 85
        }
      ]
    },
    {
      "cell_type": "markdown",
      "source": [
        "# back-propagtion is recursive application of chain - rule through out the graphs"
      ],
      "metadata": {
        "id": "nYGUIqyGbo4r"
      }
    },
    {
      "cell_type": "code",
      "source": [
        "# we try to move the L up by changing the leaf nodes by some value or step size\n",
        "a.data += 0.01 * a.grad\n",
        "b.data += 0.01 * b.grad\n",
        "c.data += 0.01 * c.grad\n",
        "f.data += 0.01 * f.grad\n",
        "\n",
        "# now apply forward pas\n",
        "e = a * b\n",
        "d = e + c\n",
        "L = d * f\n",
        "\n",
        "print(L.data)\n"
      ],
      "metadata": {
        "colab": {
          "base_uri": "https://localhost:8080/"
        },
        "id": "3Yst4BOCZ744",
        "outputId": "1f7d0e2f-3ed4-485d-f850-07ee0dbc7f42"
      },
      "execution_count": 57,
      "outputs": [
        {
          "output_type": "stream",
          "name": "stdout",
          "text": [
            "-5.900192000000001\n"
          ]
        }
      ]
    },
    {
      "cell_type": "code",
      "source": [
        "# now we will build a sample neural net , and a multilayer neuron called perceptron\n",
        "\n",
        "plt.plot(np.arange(-5,5,0.2), np.tanh(np.arange(-5,5,0.2))); plt.grid()"
      ],
      "metadata": {
        "colab": {
          "base_uri": "https://localhost:8080/",
          "height": 430
        },
        "id": "i8dCaquTba5Z",
        "outputId": "800420c0-9404-4704-e823-291f9ae99b3a"
      },
      "execution_count": 61,
      "outputs": [
        {
          "output_type": "display_data",
          "data": {
            "text/plain": [
              "<Figure size 640x480 with 1 Axes>"
            ],
            "image/png": "[encoded data removed]"
          },
          "metadata": {}
        }
      ]
    },
    {
      "cell_type": "markdown",
      "source": [
        "![image.png](data:image/png;base64,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)"
      ],
      "metadata": {
        "id": "rOhzipNWeMoD"
      }
    },
    {
      "cell_type": "code",
      "source": [
        "# inputs x1,x2 2 dim neuron\n",
        "x1 = Value(2.0, label='x1')\n",
        "x2 = Value(0.0, label='x2')\n",
        "\n",
        "# weights; w1,w2 ;synaptics\n",
        "w1 = Value(-3.0,label='w1')\n",
        "w2 = Value(1.0,label='w2')\n",
        "\n",
        "# bias\n",
        "b = Value(6.8813735870195432,label = 'b')\n",
        "\n",
        "# x1*w1 + x2*w2 + b\n",
        "x1w1 = x1 * w1; x1w1.label='x1 * w1'\n",
        "x2w2 = x2 * w2; x2w2.label = 'x2 * w2'\n",
        "\n",
        "x1w1x2w2 = x1w1 + x2w2; x1w1x2w2.label = 'x1*w1 + x2*w2'\n",
        "n = x1w1x2w2 + b; n.label='n'\n",
        "# output with a activation function (tanh)\n",
        "o = n.tanh(); o.label='o'\n",
        "draw_dot(o)"
      ],
      "metadata": {
        "colab": {
          "base_uri": "https://localhost:8080/",
          "height": 321
        },
        "id": "2v9dWPQec8_O",
        "outputId": "1f7eac0f-2197-44fe-bda7-bbe68e2859b8"
      },
      "execution_count": 87,
      "outputs": [
        {
          "output_type": "execute_result",
          "data": {
            "image/svg+xml": "<?xml version=\"1.0\" encoding=\"UTF-8\" standalone=\"no\"?>\n<!DOCTYPE svg PUBLIC \"-//W3C//DTD SVG 1.1//EN\"\n \"http://www.w3.org/Graphics/SVG/1.1/DTD/svg11.dtd\">\n<!-- Generated by graphviz version 2.43.0 (0)\n -->\n<!-- Title: %3 Pages: 1 -->\n<svg width=\"1583pt\" height=\"210pt\"\n viewBox=\"0.00 0.00 1583.00 210.00\" xmlns=\"http://www.w3.org/2000/svg\" xmlns:xlink=\"http://www.w3.org/1999/xlink\">\n<g id=\"graph0\" class=\"graph\" transform=\"scale(1 1) rotate(0) translate(4 206)\">\n<title>%3</title>\n<polygon fill=\"white\" stroke=\"transparent\" points=\"-4,4 -4,-206 1579,-206 1579,4 -4,4\"/>\n<!-- 138511021878800 -->\n<g id=\"node1\" class=\"node\">\n<title>138511021878800</title>\n<polygon fill=\"none\" stroke=\"black\" points=\"0,-165.5 0,-201.5 200,-201.5 200,-165.5 0,-165.5\"/>\n<text text-anchor=\"middle\" x=\"16.5\" y=\"-179.8\" font-family=\"Times,serif\" font-size=\"14.00\">w1</text>\n<polyline fill=\"none\" stroke=\"black\" points=\"33,-165.5 33,-201.5 \"/>\n<text text-anchor=\"middle\" x=\"75.5\" y=\"-179.8\" font-family=\"Times,serif\" font-size=\"14.00\">data &#45;3.0000</text>\n<polyline fill=\"none\" stroke=\"black\" points=\"118,-165.5 118,-201.5 \"/>\n<text text-anchor=\"middle\" x=\"159\" y=\"-179.8\" font-family=\"Times,serif\" font-size=\"14.00\">grad 0.0000</text>\n</g>\n<!-- 138511021879712* -->\n<g id=\"node13\" class=\"node\">\n<title>138511021879712*</title>\n<ellipse fill=\"none\" stroke=\"black\" cx=\"263\" cy=\"-128.5\" rx=\"27\" ry=\"18\"/>\n<text text-anchor=\"middle\" x=\"263\" y=\"-124.8\" font-family=\"Times,serif\" font-size=\"14.00\">*</text>\n</g>\n<!-- 138511021878800&#45;&gt;138511021879712* -->\n<g id=\"edge14\" class=\"edge\">\n<title>138511021878800&#45;&gt;138511021879712*</title>\n<path fill=\"none\" stroke=\"black\" d=\"M172.53,-165.44C181.84,-162.67 191.2,-159.67 200,-156.5 210.53,-152.71 221.75,-147.9 231.72,-143.33\"/>\n<polygon fill=\"black\" stroke=\"black\" points=\"233.25,-146.48 240.82,-139.07 230.28,-140.14 233.25,-146.48\"/>\n</g>\n<!-- 138511021880384 -->\n<g id=\"node2\" class=\"node\">\n<title>138511021880384</title>\n<polygon fill=\"none\" stroke=\"black\" points=\"2.5,-55.5 2.5,-91.5 197.5,-91.5 197.5,-55.5 2.5,-55.5\"/>\n<text text-anchor=\"middle\" x=\"19\" y=\"-69.8\" font-family=\"Times,serif\" font-size=\"14.00\">w2</text>\n<polyline fill=\"none\" stroke=\"black\" points=\"35.5,-55.5 35.5,-91.5 \"/>\n<text text-anchor=\"middle\" x=\"75.5\" y=\"-69.8\" font-family=\"Times,serif\" font-size=\"14.00\">data 1.0000</text>\n<polyline fill=\"none\" stroke=\"black\" points=\"115.5,-55.5 115.5,-91.5 \"/>\n<text text-anchor=\"middle\" x=\"156.5\" y=\"-69.8\" font-family=\"Times,serif\" font-size=\"14.00\">grad 0.0000</text>\n</g>\n<!-- 138511021879280* -->\n<g id=\"node15\" class=\"node\">\n<title>138511021879280*</title>\n<ellipse fill=\"none\" stroke=\"black\" cx=\"263\" cy=\"-73.5\" rx=\"27\" ry=\"18\"/>\n<text text-anchor=\"middle\" x=\"263\" y=\"-69.8\" font-family=\"Times,serif\" font-size=\"14.00\">*</text>\n</g>\n<!-- 138511021880384&#45;&gt;138511021879280* -->\n<g id=\"edge7\" class=\"edge\">\n<title>138511021880384&#45;&gt;138511021879280*</title>\n<path fill=\"none\" stroke=\"black\" d=\"M197.91,-73.5C207.65,-73.5 217.05,-73.5 225.52,-73.5\"/>\n<polygon fill=\"black\" stroke=\"black\" points=\"225.7,-77 235.7,-73.5 225.7,-70 225.7,-77\"/>\n</g>\n<!-- 138511021879952 -->\n<g id=\"node3\" class=\"node\">\n<title>138511021879952</title>\n<polygon fill=\"none\" stroke=\"black\" points=\"680,-82.5 680,-118.5 953,-118.5 953,-82.5 680,-82.5\"/>\n<text text-anchor=\"middle\" x=\"733\" y=\"-96.8\" font-family=\"Times,serif\" font-size=\"14.00\">x1*w1 + x2*w2</text>\n<polyline fill=\"none\" stroke=\"black\" points=\"786,-82.5 786,-118.5 \"/>\n<text text-anchor=\"middle\" x=\"828.5\" y=\"-96.8\" font-family=\"Times,serif\" font-size=\"14.00\">data &#45;6.0000</text>\n<polyline fill=\"none\" stroke=\"black\" points=\"871,-82.5 871,-118.5 \"/>\n<text text-anchor=\"middle\" x=\"912\" y=\"-96.8\" font-family=\"Times,serif\" font-size=\"14.00\">grad 0.0000</text>\n</g>\n<!-- 138511021880480+ -->\n<g id=\"node6\" class=\"node\">\n<title>138511021880480+</title>\n<ellipse fill=\"none\" stroke=\"black\" cx=\"1016\" cy=\"-72.5\" rx=\"27\" ry=\"18\"/>\n<text text-anchor=\"middle\" x=\"1016\" y=\"-68.8\" font-family=\"Times,serif\" font-size=\"14.00\">+</text>\n</g>\n<!-- 138511021879952&#45;&gt;138511021880480+ -->\n<g id=\"edge12\" class=\"edge\">\n<title>138511021879952&#45;&gt;138511021880480+</title>\n<path fill=\"none\" stroke=\"black\" d=\"M944.53,-82.49C957.09,-80.71 968.99,-79.02 979.3,-77.56\"/>\n<polygon fill=\"black\" stroke=\"black\" points=\"980.03,-80.99 989.44,-76.12 979.05,-74.06 980.03,-80.99\"/>\n</g>\n<!-- 138511021879952+ -->\n<g id=\"node4\" class=\"node\">\n<title>138511021879952+</title>\n<ellipse fill=\"none\" stroke=\"black\" cx=\"617\" cy=\"-100.5\" rx=\"27\" ry=\"18\"/>\n<text text-anchor=\"middle\" x=\"617\" y=\"-96.8\" font-family=\"Times,serif\" font-size=\"14.00\">+</text>\n</g>\n<!-- 138511021879952+&#45;&gt;138511021879952 -->\n<g id=\"edge1\" class=\"edge\">\n<title>138511021879952+&#45;&gt;138511021879952</title>\n<path fill=\"none\" stroke=\"black\" d=\"M644.23,-100.5C651.7,-100.5 660.41,-100.5 669.87,-100.5\"/>\n<polygon fill=\"black\" stroke=\"black\" points=\"669.98,-104 679.98,-100.5 669.98,-97 669.98,-104\"/>\n</g>\n<!-- 138511021880480 -->\n<g id=\"node5\" class=\"node\">\n<title>138511021880480</title>\n<polygon fill=\"none\" stroke=\"black\" points=\"1079,-54.5 1079,-90.5 1264,-90.5 1264,-54.5 1079,-54.5\"/>\n<text text-anchor=\"middle\" x=\"1090.5\" y=\"-68.8\" font-family=\"Times,serif\" font-size=\"14.00\">n</text>\n<polyline fill=\"none\" stroke=\"black\" points=\"1102,-54.5 1102,-90.5 \"/>\n<text text-anchor=\"middle\" x=\"1142\" y=\"-68.8\" font-family=\"Times,serif\" font-size=\"14.00\">data 0.8814</text>\n<polyline fill=\"none\" stroke=\"black\" points=\"1182,-54.5 1182,-90.5 \"/>\n<text text-anchor=\"middle\" x=\"1223\" y=\"-68.8\" font-family=\"Times,serif\" font-size=\"14.00\">grad 0.0000</text>\n</g>\n<!-- 138511021878032tanh -->\n<g id=\"node10\" class=\"node\">\n<title>138511021878032tanh</title>\n<ellipse fill=\"none\" stroke=\"black\" cx=\"1327\" cy=\"-72.5\" rx=\"27\" ry=\"18\"/>\n<text text-anchor=\"middle\" x=\"1327\" y=\"-68.8\" font-family=\"Times,serif\" font-size=\"14.00\">tanh</text>\n</g>\n<!-- 138511021880480&#45;&gt;138511021878032tanh -->\n<g id=\"edge9\" class=\"edge\">\n<title>138511021880480&#45;&gt;138511021878032tanh</title>\n<path fill=\"none\" stroke=\"black\" d=\"M1264.01,-72.5C1273.01,-72.5 1281.74,-72.5 1289.66,-72.5\"/>\n<polygon fill=\"black\" stroke=\"black\" points=\"1289.91,-76 1299.91,-72.5 1289.91,-69 1289.91,-76\"/>\n</g>\n<!-- 138511021880480+&#45;&gt;138511021880480 -->\n<g id=\"edge2\" class=\"edge\">\n<title>138511021880480+&#45;&gt;138511021880480</title>\n<path fill=\"none\" stroke=\"black\" d=\"M1043.04,-72.5C1050.58,-72.5 1059.3,-72.5 1068.57,-72.5\"/>\n<polygon fill=\"black\" stroke=\"black\" points=\"1068.81,-76 1078.81,-72.5 1068.81,-69 1068.81,-76\"/>\n</g>\n<!-- 138511021878416 -->\n<g id=\"node7\" class=\"node\">\n<title>138511021878416</title>\n<polygon fill=\"none\" stroke=\"black\" points=\"4,-0.5 4,-36.5 196,-36.5 196,-0.5 4,-0.5\"/>\n<text text-anchor=\"middle\" x=\"19\" y=\"-14.8\" font-family=\"Times,serif\" font-size=\"14.00\">x2</text>\n<polyline fill=\"none\" stroke=\"black\" points=\"34,-0.5 34,-36.5 \"/>\n<text text-anchor=\"middle\" x=\"74\" y=\"-14.8\" font-family=\"Times,serif\" font-size=\"14.00\">data 0.0000</text>\n<polyline fill=\"none\" stroke=\"black\" points=\"114,-0.5 114,-36.5 \"/>\n<text text-anchor=\"middle\" x=\"155\" y=\"-14.8\" font-family=\"Times,serif\" font-size=\"14.00\">grad 0.0000</text>\n</g>\n<!-- 138511021878416&#45;&gt;138511021879280* -->\n<g id=\"edge8\" class=\"edge\">\n<title>138511021878416&#45;&gt;138511021879280*</title>\n<path fill=\"none\" stroke=\"black\" d=\"M169.28,-36.5C179.65,-39.61 190.16,-42.98 200,-46.5 210.28,-50.17 221.28,-54.74 231.11,-59.07\"/>\n<polygon fill=\"black\" stroke=\"black\" points=\"229.93,-62.37 240.48,-63.27 232.79,-55.99 229.93,-62.37\"/>\n</g>\n<!-- 138511021877936 -->\n<g id=\"node8\" class=\"node\">\n<title>138511021877936</title>\n<polygon fill=\"none\" stroke=\"black\" points=\"724,-27.5 724,-63.5 909,-63.5 909,-27.5 724,-27.5\"/>\n<text text-anchor=\"middle\" x=\"735.5\" y=\"-41.8\" font-family=\"Times,serif\" font-size=\"14.00\">b</text>\n<polyline fill=\"none\" stroke=\"black\" points=\"747,-27.5 747,-63.5 \"/>\n<text text-anchor=\"middle\" x=\"787\" y=\"-41.8\" font-family=\"Times,serif\" font-size=\"14.00\">data 6.8814</text>\n<polyline fill=\"none\" stroke=\"black\" points=\"827,-27.5 827,-63.5 \"/>\n<text text-anchor=\"middle\" x=\"868\" y=\"-41.8\" font-family=\"Times,serif\" font-size=\"14.00\">grad 0.0000</text>\n</g>\n<!-- 138511021877936&#45;&gt;138511021880480+ -->\n<g id=\"edge10\" class=\"edge\">\n<title>138511021877936&#45;&gt;138511021880480+</title>\n<path fill=\"none\" stroke=\"black\" d=\"M909.02,-58.01C934,-61.43 959.59,-64.93 979.37,-67.63\"/>\n<polygon fill=\"black\" stroke=\"black\" points=\"979.05,-71.12 989.43,-69.01 980,-64.18 979.05,-71.12\"/>\n</g>\n<!-- 138511021878032 -->\n<g id=\"node9\" class=\"node\">\n<title>138511021878032</title>\n<polygon fill=\"none\" stroke=\"black\" points=\"1390,-54.5 1390,-90.5 1575,-90.5 1575,-54.5 1390,-54.5\"/>\n<text text-anchor=\"middle\" x=\"1401.5\" y=\"-68.8\" font-family=\"Times,serif\" font-size=\"14.00\">o</text>\n<polyline fill=\"none\" stroke=\"black\" points=\"1413,-54.5 1413,-90.5 \"/>\n<text text-anchor=\"middle\" x=\"1453\" y=\"-68.8\" font-family=\"Times,serif\" font-size=\"14.00\">data 0.7071</text>\n<polyline fill=\"none\" stroke=\"black\" points=\"1493,-54.5 1493,-90.5 \"/>\n<text text-anchor=\"middle\" x=\"1534\" y=\"-68.8\" font-family=\"Times,serif\" font-size=\"14.00\">grad 0.0000</text>\n</g>\n<!-- 138511021878032tanh&#45;&gt;138511021878032 -->\n<g id=\"edge3\" class=\"edge\">\n<title>138511021878032tanh&#45;&gt;138511021878032</title>\n<path fill=\"none\" stroke=\"black\" d=\"M1354.04,-72.5C1361.58,-72.5 1370.3,-72.5 1379.57,-72.5\"/>\n<polygon fill=\"black\" stroke=\"black\" points=\"1379.81,-76 1389.81,-72.5 1379.81,-69 1379.81,-76\"/>\n</g>\n<!-- 138511021878608 -->\n<g id=\"node11\" class=\"node\">\n<title>138511021878608</title>\n<polygon fill=\"none\" stroke=\"black\" points=\"4,-110.5 4,-146.5 196,-146.5 196,-110.5 4,-110.5\"/>\n<text text-anchor=\"middle\" x=\"19\" y=\"-124.8\" font-family=\"Times,serif\" font-size=\"14.00\">x1</text>\n<polyline fill=\"none\" stroke=\"black\" points=\"34,-110.5 34,-146.5 \"/>\n<text text-anchor=\"middle\" x=\"74\" y=\"-124.8\" font-family=\"Times,serif\" font-size=\"14.00\">data 2.0000</text>\n<polyline fill=\"none\" stroke=\"black\" points=\"114,-110.5 114,-146.5 \"/>\n<text text-anchor=\"middle\" x=\"155\" y=\"-124.8\" font-family=\"Times,serif\" font-size=\"14.00\">grad 0.0000</text>\n</g>\n<!-- 138511021878608&#45;&gt;138511021879712* -->\n<g id=\"edge13\" class=\"edge\">\n<title>138511021878608&#45;&gt;138511021879712*</title>\n<path fill=\"none\" stroke=\"black\" d=\"M196.05,-128.5C206.52,-128.5 216.65,-128.5 225.71,-128.5\"/>\n<polygon fill=\"black\" stroke=\"black\" points=\"225.79,-132 235.79,-128.5 225.79,-125 225.79,-132\"/>\n</g>\n<!-- 138511021879712 -->\n<g id=\"node12\" class=\"node\">\n<title>138511021879712</title>\n<polygon fill=\"none\" stroke=\"black\" points=\"326,-110.5 326,-146.5 554,-146.5 554,-110.5 326,-110.5\"/>\n<text text-anchor=\"middle\" x=\"356.5\" y=\"-124.8\" font-family=\"Times,serif\" font-size=\"14.00\">x1 * w1</text>\n<polyline fill=\"none\" stroke=\"black\" points=\"387,-110.5 387,-146.5 \"/>\n<text text-anchor=\"middle\" x=\"429.5\" y=\"-124.8\" font-family=\"Times,serif\" font-size=\"14.00\">data &#45;6.0000</text>\n<polyline fill=\"none\" stroke=\"black\" points=\"472,-110.5 472,-146.5 \"/>\n<text text-anchor=\"middle\" x=\"513\" y=\"-124.8\" font-family=\"Times,serif\" font-size=\"14.00\">grad 0.0000</text>\n</g>\n<!-- 138511021879712&#45;&gt;138511021879952+ -->\n<g id=\"edge11\" class=\"edge\">\n<title>138511021879712&#45;&gt;138511021879952+</title>\n<path fill=\"none\" stroke=\"black\" d=\"M553.81,-110.45C563.28,-108.93 572.32,-107.49 580.43,-106.19\"/>\n<polygon fill=\"black\" stroke=\"black\" points=\"581.19,-109.61 590.51,-104.58 580.08,-102.7 581.19,-109.61\"/>\n</g>\n<!-- 138511021879712*&#45;&gt;138511021879712 -->\n<g id=\"edge4\" class=\"edge\">\n<title>138511021879712*&#45;&gt;138511021879712</title>\n<path fill=\"none\" stroke=\"black\" d=\"M290.2,-128.5C297.62,-128.5 306.23,-128.5 315.48,-128.5\"/>\n<polygon fill=\"black\" stroke=\"black\" points=\"315.76,-132 325.76,-128.5 315.76,-125 315.76,-132\"/>\n</g>\n<!-- 138511021879280 -->\n<g id=\"node14\" class=\"node\">\n<title>138511021879280</title>\n<polygon fill=\"none\" stroke=\"black\" points=\"328.5,-55.5 328.5,-91.5 551.5,-91.5 551.5,-55.5 328.5,-55.5\"/>\n<text text-anchor=\"middle\" x=\"359\" y=\"-69.8\" font-family=\"Times,serif\" font-size=\"14.00\">x2 * w2</text>\n<polyline fill=\"none\" stroke=\"black\" points=\"389.5,-55.5 389.5,-91.5 \"/>\n<text text-anchor=\"middle\" x=\"429.5\" y=\"-69.8\" font-family=\"Times,serif\" font-size=\"14.00\">data 0.0000</text>\n<polyline fill=\"none\" stroke=\"black\" points=\"469.5,-55.5 469.5,-91.5 \"/>\n<text text-anchor=\"middle\" x=\"510.5\" y=\"-69.8\" font-family=\"Times,serif\" font-size=\"14.00\">grad 0.0000</text>\n</g>\n<!-- 138511021879280&#45;&gt;138511021879952+ -->\n<g id=\"edge6\" class=\"edge\">\n<title>138511021879280&#45;&gt;138511021879952+</title>\n<path fill=\"none\" stroke=\"black\" d=\"M551.83,-90.6C562.05,-92.18 571.82,-93.68 580.51,-95.02\"/>\n<polygon fill=\"black\" stroke=\"black\" points=\"580.12,-98.51 590.54,-96.57 581.19,-91.59 580.12,-98.51\"/>\n</g>\n<!-- 138511021879280*&#45;&gt;138511021879280 -->\n<g id=\"edge5\" class=\"edge\">\n<title>138511021879280*&#45;&gt;138511021879280</title>\n<path fill=\"none\" stroke=\"black\" d=\"M290.2,-73.5C298.36,-73.5 307.96,-73.5 318.28,-73.5\"/>\n<polygon fill=\"black\" stroke=\"black\" points=\"318.37,-77 328.37,-73.5 318.37,-70 318.37,-77\"/>\n</g>\n</g>\n</svg>\n",
            "text/plain": [
              "<graphviz.graphs.Digraph at 0x7df99c41a8d0>"
            ]
          },
          "metadata": {},
          "execution_count": 87
        }
      ]
    },
    {
      "cell_type": "code",
      "source": [],
      "metadata": {
        "id": "3hCA6WMYf8Yl"
      },
      "execution_count": null,
      "outputs": []
    }
  ]
}